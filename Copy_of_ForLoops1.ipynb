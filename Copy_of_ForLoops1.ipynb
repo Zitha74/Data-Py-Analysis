{
  "nbformat": 4,
  "nbformat_minor": 0,
  "metadata": {
    "colab": {
      "name": "Copy of ForLoops1.ipynb",
      "provenance": [],
      "collapsed_sections": [],
      "include_colab_link": true
    },
    "kernelspec": {
      "name": "python3",
      "display_name": "Python 3"
    }
  },
  "cells": [
    {
      "cell_type": "markdown",
      "metadata": {
        "id": "view-in-github",
        "colab_type": "text"
      },
      "source": [
        "<a href=\"https://colab.research.google.com/github/Zitha74/Data-Py-Analysis/blob/main/Copy_of_ForLoops1.ipynb\" target=\"_parent\"><img src=\"https://colab.research.google.com/assets/colab-badge.svg\" alt=\"Open In Colab\"/></a>"
      ]
    },
    {
      "cell_type": "markdown",
      "metadata": {
        "id": "pnmU3c3w5tsh"
      },
      "source": [
        "# For Loops \n",
        "\n",
        "---\n"
      ]
    },
    {
      "cell_type": "markdown",
      "metadata": {
        "id": "y9vt3oJb5x8i"
      },
      "source": [
        "When you know how many times a loop should run you can use a *for* loop.  \n",
        "\n",
        "Here is an example:  \n",
        "\n",
        "Suppose we want to read 10 numbers from the keyboard, add them up and print the total. We can use a *for* loop as we know that we want to read from the keyboard exactly 10 times.\n",
        "\n",
        "The logic is:"
      ]
    },
    {
      "cell_type": "code",
      "metadata": {
        "id": "PZ2CsCQj55M7",
        "colab": {
          "base_uri": "https://localhost:8080/"
        },
        "outputId": "af284ed6-3ef0-4d48-dccf-718aaa09adb7"
      },
      "source": [
        "# initialise a total so that it starts at 0\n",
        "# read 10 numbers from the keyboard and keep a running total\n",
        "# print the total\n",
        "\n",
        "def read_ten_nums():\n",
        "  total = 0\n",
        "  for i in range(10):\n",
        "    num = int(input(\"Enter a number\"))\n",
        "    total = total + num\n",
        "  print(total)\n",
        "\n",
        "read_ten_nums()"
      ],
      "execution_count": 4,
      "outputs": [
        {
          "output_type": "stream",
          "text": [
            "Enter a number0\n",
            "Enter a number9\n",
            "Enter a number8\n",
            "Enter a number7\n",
            "Enter a number6\n",
            "Enter a number5\n",
            "Enter a number4\n",
            "Enter a number3\n",
            "Enter a number2\n",
            "Enter a number1\n",
            "45\n"
          ],
          "name": "stdout"
        }
      ]
    },
    {
      "cell_type": "markdown",
      "metadata": {
        "id": "snWJCKCv57kz"
      },
      "source": [
        "The *for* loop here repeats 10 times. Each time round the loop, a number is read and is added to the total. After this has happened 10 times, the total will be printed.\n",
        "\n",
        "Notice that all the code to be repeated in the loop is indented, but the instruction to print is not indented like the lines above. This is because print(total) is not included in the loop, it should only run once.\n",
        "\n",
        "You can use a *for* loop on Strings too:"
      ]
    },
    {
      "cell_type": "code",
      "metadata": {
        "id": "NTrE8ib05-W8"
      },
      "source": [
        "def print_characters():\n",
        "  word = \"learning\"\n",
        "  for letter in word:\n",
        "    print(letter)\n",
        "print_characters()"
      ],
      "execution_count": null,
      "outputs": []
    },
    {
      "cell_type": "markdown",
      "metadata": {
        "id": "Z8DJwTyR6x-m"
      },
      "source": [
        "### Using the range() function:\n",
        "\n",
        "If we would like a selection of numbers within a defined range we can use the **range()** function.\n",
        "\n",
        "It can be used in the following ways:\n",
        "\n",
        "* **range(n)** - this would give all numbers in the range 0 to n-1 \n",
        "\n",
        "* **range(num1, num2)** - this would give all numbers in range num1 to num2-1\n",
        "\n",
        "For example:\n",
        "\n",
        "If we wanted numbers within the range of 1 - 5 we would write this as range(1, 6) \n",
        "\n",
        "* the second argument must always be the number you would like the range to go up to + 1 (n+1)\n",
        "\n",
        "Here is an example that prints all the numbers up to 5, (starting at 0 as this is the default if there is no other information).  Run the code below:"
      ]
    },
    {
      "cell_type": "code",
      "metadata": {
        "id": "afGEUwDI8mQS",
        "colab": {
          "base_uri": "https://localhost:8080/"
        },
        "outputId": "a57d1302-d6e1-46a4-a549-303711619a27"
      },
      "source": [
        "def show_range():\n",
        "  for i in range(6):\n",
        "    print(i)\n",
        "\n",
        "show_range()"
      ],
      "execution_count": 5,
      "outputs": [
        {
          "output_type": "stream",
          "text": [
            "0\n",
            "1\n",
            "2\n",
            "3\n",
            "4\n",
            "5\n"
          ],
          "name": "stdout"
        }
      ]
    },
    {
      "cell_type": "markdown",
      "metadata": {
        "id": "4n4fM_9X9Qr4"
      },
      "source": [
        "Here is an example that prints all numbers in range 1 - 5, run the code below:"
      ]
    },
    {
      "cell_type": "code",
      "metadata": {
        "id": "Q_6Ltbik8ASH",
        "colab": {
          "base_uri": "https://localhost:8080/"
        },
        "outputId": "4c54e816-8945-4dc9-98c5-f4bf0d0fc923"
      },
      "source": [
        "def show_range():\n",
        "  for i in range(1, 6):\n",
        "    print(i)\n",
        "\n",
        "show_range()"
      ],
      "execution_count": 6,
      "outputs": [
        {
          "output_type": "stream",
          "text": [
            "1\n",
            "2\n",
            "3\n",
            "4\n",
            "5\n"
          ],
          "name": "stdout"
        }
      ]
    },
    {
      "cell_type": "markdown",
      "metadata": {
        "id": "0bRQj0q2l13D"
      },
      "source": [
        "## Using steps\n",
        "\n",
        "In general, if we use a range, we give a starting number and a stopping number (the first number that is out of the range in the direction we are counting).  The default is to count up in 1s.  \n",
        "\n",
        "When we want a loop to count in bigger steps, we can add a further parameter in the range brackets, which represents the size of the step.\n",
        "\n",
        "e.g. to print the even numbers up to 10 (starting with the first even number)\n",
        "\n",
        "```\n",
        "for i in range(2,11,2):\n",
        "   print(i)\n",
        "```\n",
        "\n",
        "e.g. to print all multiples of 5 from 5 to 50 (starting with the first multiple)\n",
        "\n",
        "\n",
        "```\n",
        "for i in range(5,51,5):\n",
        "   print(i)\n",
        "```\n",
        "\n",
        "We can use steps to **reverse** the direction of counting.  So to count backwards from 10 to 1, we can use a step of -1.  Again, use the starting number, the number AFTER the last number to be included, in the direction we are counting, and the size and direction of the step. \n",
        "\n",
        "```\n",
        "for i in range(10, 0, -1):\n",
        "   print(i)\n",
        "```"
      ]
    },
    {
      "cell_type": "markdown",
      "metadata": {
        "id": "qhDCyPzf6A2q"
      },
      "source": [
        "### Take home point\n",
        "\n",
        "* we use *for* loops to make a section of code repeat a set number of times\n"
      ]
    },
    {
      "cell_type": "markdown",
      "metadata": {
        "id": "uyYsZBFBjfBi"
      },
      "source": [
        "---\n",
        "### Exercise 1 - number list\n",
        "\n",
        "Write a function called **list_numbers()** which will:  \n",
        "\n",
        "*  print all the whole numbers up to 9  \n",
        "\n",
        "Expected output:  \n",
        "0  \n",
        "1  \n",
        "2  \n",
        "3  \n",
        "4  \n",
        "5  \n",
        "6  \n",
        "7  \n",
        "8  \n",
        "9  "
      ]
    },
    {
      "cell_type": "code",
      "metadata": {
        "id": "FrQQh3T4jfRz",
        "colab": {
          "base_uri": "https://localhost:8080/"
        },
        "outputId": "64b1f037-23d2-4591-f562-e5fb83013e30"
      },
      "source": [
        "def list_numbers():\n",
        "  for i in range(10):\n",
        "     print(i)\n",
        "list_numbers()"
      ],
      "execution_count": 8,
      "outputs": [
        {
          "output_type": "stream",
          "text": [
            "0\n",
            "1\n",
            "2\n",
            "3\n",
            "4\n",
            "5\n",
            "6\n",
            "7\n",
            "8\n",
            "9\n"
          ],
          "name": "stdout"
        }
      ]
    },
    {
      "cell_type": "markdown",
      "metadata": {
        "id": "AgQUGV4pj37a"
      },
      "source": [
        "---\n",
        "### Exercise 2 - list number range  \n",
        "\n",
        "Write a function called **list_number_range()** which will:  \n",
        "\n",
        "* print the numbers between 5 and 15 (including both)  \n",
        "\n",
        "Expected output:  \n",
        "5  \n",
        "6  \n",
        "7  \n",
        "8  \n",
        "9  \n",
        "10  \n",
        "11  \n",
        "12  \n",
        "13  \n",
        "14  \n",
        "15  \n",
        "\n"
      ]
    },
    {
      "cell_type": "code",
      "metadata": {
        "id": "qJVqD75bj4FR",
        "colab": {
          "base_uri": "https://localhost:8080/"
        },
        "outputId": "7281b8a4-dec2-48ff-ca28-0380b1d1935c"
      },
      "source": [
        "def list_number_range():\n",
        "    for i in range(5,16):\n",
        "       print(i)\n",
        "list_number_range()"
      ],
      "execution_count": 9,
      "outputs": [
        {
          "output_type": "stream",
          "text": [
            "5\n",
            "6\n",
            "7\n",
            "8\n",
            "9\n",
            "10\n",
            "11\n",
            "12\n",
            "13\n",
            "14\n",
            "15\n"
          ],
          "name": "stdout"
        }
      ]
    },
    {
      "cell_type": "markdown",
      "metadata": {
        "id": "fzfifXcKkr8C"
      },
      "source": [
        "---\n",
        "### Exercise 3 - list evens  \n",
        "\n",
        "Write a function called **list_evens()** which will:  \n",
        "\n",
        "*  print the even numbers from 2 to 20  \n",
        "\n",
        "Expected output:  \n",
        "2  \n",
        "4  \n",
        "6  \n",
        "8  \n",
        "10  \n",
        "12  \n",
        "14  \n",
        "16  \n",
        "18  \n",
        "20  "
      ]
    },
    {
      "cell_type": "code",
      "metadata": {
        "id": "dwO_nP5EksEo",
        "colab": {
          "base_uri": "https://localhost:8080/"
        },
        "outputId": "27d21941-c8c3-4a00-ce62-6acbff04f1e7"
      },
      "source": [
        "def list_evens():\n",
        "    for i in range(2,21,2):\n",
        "       print(i)\n",
        "list_evens()"
      ],
      "execution_count": 11,
      "outputs": [
        {
          "output_type": "stream",
          "text": [
            "2\n",
            "4\n",
            "6\n",
            "8\n",
            "10\n",
            "12\n",
            "14\n",
            "16\n",
            "18\n",
            "20\n"
          ],
          "name": "stdout"
        }
      ]
    },
    {
      "cell_type": "markdown",
      "metadata": {
        "id": "kqQ7LYx_n_k7"
      },
      "source": [
        "---\n",
        "### Exercise 4 - list multiples  \n",
        "\n",
        "Write a function called **list_multiples()** which will:\n",
        "\n",
        "*  list the multiples of 3 from 3 to 36\n",
        "\n",
        "Expected output:  \n",
        "3  \n",
        "6  \n",
        "9  \n",
        "12  \n",
        "15  \n",
        "18  \n",
        "21  \n",
        "24  \n",
        "27  \n",
        "30  \n",
        "33  \n",
        "36  "
      ]
    },
    {
      "cell_type": "code",
      "metadata": {
        "id": "6ggfz-uin_vR",
        "colab": {
          "base_uri": "https://localhost:8080/"
        },
        "outputId": "affddfed-d9d1-45a9-dc1b-a15aec47660d"
      },
      "source": [
        "def list_multiples():\n",
        "    for i in range(3,37,3):\n",
        "       print(i)\n",
        "list_multiples()"
      ],
      "execution_count": 12,
      "outputs": [
        {
          "output_type": "stream",
          "text": [
            "3\n",
            "6\n",
            "9\n",
            "12\n",
            "15\n",
            "18\n",
            "21\n",
            "24\n",
            "27\n",
            "30\n",
            "33\n",
            "36\n"
          ],
          "name": "stdout"
        }
      ]
    },
    {
      "cell_type": "markdown",
      "metadata": {
        "id": "HMPqYGrUolM6"
      },
      "source": [
        "---\n",
        "### Exercise 5 - reverse list\n",
        "\n",
        "Write a function called list_reverse() which will: \n",
        "\n",
        "*  print the numbers 5 to 15 in reverse\n",
        "\n",
        "Expected output:  \n",
        "15  \n",
        "14  \n",
        "13  \n",
        "12  \n",
        "11  \n",
        "10  \n",
        "9  \n",
        "8  \n",
        "7  \n",
        "6  \n",
        "5  "
      ]
    },
    {
      "cell_type": "code",
      "metadata": {
        "id": "2X_XE6J9olYI",
        "colab": {
          "base_uri": "https://localhost:8080/"
        },
        "outputId": "844768c2-554e-4215-ff4c-c17ae5756980"
      },
      "source": [
        "def list_reverse():\n",
        "    for i in range(15,4,-1):\n",
        "       print(i)\n",
        "list_reverse()"
      ],
      "execution_count": 17,
      "outputs": [
        {
          "output_type": "stream",
          "text": [
            "15\n",
            "14\n",
            "13\n",
            "12\n",
            "11\n",
            "10\n",
            "9\n",
            "8\n",
            "7\n",
            "6\n",
            "5\n"
          ],
          "name": "stdout"
        }
      ]
    },
    {
      "cell_type": "markdown",
      "metadata": {
        "id": "kBuUcJE56beE"
      },
      "source": [
        "---\n",
        "### Exercise 6 - sum of range\n",
        "\n",
        "Write the function **calculate_sum_of()** which will:\n",
        "\n",
        "*  set a total to 0\n",
        "*  use the `range()` function for all the numbers between 1 - 15, adding each onto a **total** in the `for loop`     \n",
        "*  print the `total`   \n",
        "\n",
        "\n",
        "Expected output:  \n",
        "120\n"
      ]
    },
    {
      "cell_type": "code",
      "metadata": {
        "id": "0WQglA1N8c_o",
        "colab": {
          "base_uri": "https://localhost:8080/"
        },
        "outputId": "606ecfdb-b318-4a21-f026-8e8379a096ac"
      },
      "source": [
        "def calculate_sum_of():\n",
        "    total = 0\n",
        "    for i in range(1,16):\n",
        "       total += i\n",
        "    print(total)\n",
        "calculate_sum_of()"
      ],
      "execution_count": 18,
      "outputs": [
        {
          "output_type": "stream",
          "text": [
            "120\n"
          ],
          "name": "stdout"
        }
      ]
    },
    {
      "cell_type": "markdown",
      "metadata": {
        "id": "L4vCtL_z74-9"
      },
      "source": [
        "### Exercise 7 - calculating the average of 5 numbers   \n",
        "\n",
        "Write a function called **average()** which will:  \n",
        "\n",
        "*  set a total to 0\n",
        "*  ask the user to enter a number 5 times, using a `for loop` with a range and adding the numbers to the `total` as the loop continues  \n",
        "*  calculate the **average** of the 5 numbers  \n",
        "*  print the `total` and `average`  \n",
        "\n",
        "Test input:  \n",
        "1  \n",
        "2   \n",
        "3  \n",
        "4  \n",
        "5  \n",
        "\n",
        "Expected output:   \n",
        "3  \n",
        "\n"
      ]
    },
    {
      "cell_type": "code",
      "metadata": {
        "id": "CtjaakGg985s",
        "colab": {
          "base_uri": "https://localhost:8080/"
        },
        "outputId": "4d49ec6b-3e57-4966-a857-1726b34fa7ee"
      },
      "source": [
        "def average():\n",
        "    total = 0\n",
        "    for i in range(5):\n",
        "       num = int(input(\"Enter a number to be added :- \"))\n",
        "       total += num\n",
        "    print(total,\"is the total of all numbers entered and the average is \", total/5)\n",
        "average()"
      ],
      "execution_count": 19,
      "outputs": [
        {
          "output_type": "stream",
          "text": [
            "Enter a number to be added :-5\n",
            "Enter a number to be added :-10\n",
            "Enter a number to be added :-15\n",
            "Enter a number to be added :-20\n",
            "Enter a number to be added :-25\n",
            "75 is the total of all numbers entered and the average is  15.0\n"
          ],
          "name": "stdout"
        }
      ]
    },
    {
      "cell_type": "markdown",
      "metadata": {
        "id": "WS6NBYF_99hQ"
      },
      "source": [
        "### Exercise 8 - calculating times table\n",
        "\n",
        "Write a function called **display_times_table()** which will:  \n",
        "\n",
        "*  ask the user to input a **number**\n",
        "*  use a for loop and the `range()` function to calculate the first ten multiples of that number and print a times table entry as shown below \n",
        "\n",
        "Test Input:  \n",
        "4  \n",
        "\n",
        "Expected output:  \n",
        "1 x 4 = 4  \n",
        "2 x 4 = 8  \n",
        "3 x 4 = 12  \n",
        "4 x 4 = 16  \n",
        "5 x 4 = 20  \n",
        "6 x 4 = 24  \n",
        "7 x 4 = 28  \n",
        "8 x 4 = 32  \n",
        "9 x 4 = 36  \n",
        "10 x 4 = 40  "
      ]
    },
    {
      "cell_type": "code",
      "metadata": {
        "id": "UqV817Ct-5qv",
        "colab": {
          "base_uri": "https://localhost:8080/"
        },
        "outputId": "e8b7364b-9650-4c25-e84d-3ab6a875aa33"
      },
      "source": [
        "def display_times_table():\n",
        "    number = int(input(\"Enter an Interger Number :- \"))\n",
        "    for i in range(1,11):\n",
        "       print(i,\"x\",number,\"=\",i*number)\n",
        "display_times_table()"
      ],
      "execution_count": 23,
      "outputs": [
        {
          "output_type": "stream",
          "text": [
            "Enter an Interger Number :- 7\n",
            "1 x 7 = 7\n",
            "2 x 7 = 14\n",
            "3 x 7 = 21\n",
            "4 x 7 = 28\n",
            "5 x 7 = 35\n",
            "6 x 7 = 42\n",
            "7 x 7 = 49\n",
            "8 x 7 = 56\n",
            "9 x 7 = 63\n",
            "10 x 7 = 70\n"
          ],
          "name": "stdout"
        }
      ]
    },
    {
      "cell_type": "markdown",
      "metadata": {
        "id": "jOukVT7--6rI"
      },
      "source": [
        "### Exercise 9 - counting down numbers in reverse \n",
        "\n",
        "Write a function called **countdown()** which will:\n",
        "\n",
        "*  ask the user to input a **number**\n",
        "*  prints numbers in a countdown starting at `number`, decreasing by 1 each time round the loop and finishing at 1\n",
        "*  after the loop, print (\"GO\") \n",
        "\n",
        "Test Input:  \n",
        "9    \n",
        "\n",
        "Expected output:   \n",
        "9  \n",
        "8  \n",
        "7  \n",
        "6  \n",
        "5  \n",
        "4  \n",
        "3  \n",
        "2  \n",
        "1  \n",
        "GO  \n"
      ]
    },
    {
      "cell_type": "code",
      "metadata": {
        "id": "0yZ7PP7HAVdO",
        "colab": {
          "base_uri": "https://localhost:8080/"
        },
        "outputId": "fc6e5c65-8559-422b-9751-861aa1188cc8"
      },
      "source": [
        "def countdown():\n",
        "    number = int(input(\"Enter the Number to start cound down : \"))\n",
        "    for i in range(number,0,-1):\n",
        "        print(i)\n",
        "countdown()"
      ],
      "execution_count": 26,
      "outputs": [
        {
          "output_type": "stream",
          "text": [
            "Enter the Number to start cound down : 5\n",
            "5\n",
            "4\n",
            "3\n",
            "2\n",
            "1\n"
          ],
          "name": "stdout"
        }
      ]
    },
    {
      "cell_type": "markdown",
      "metadata": {
        "id": "BwWzC2NXAV2P"
      },
      "source": [
        "### Exercise 5 - finding numbers multiples of 3 and multiples of 10 between 500 and 1500  \n",
        "\n",
        "Write a function called **find_multiples()** which will find numbers between 500 - 1500 which are multiples of 3 or multiples of 10:\n",
        "\n",
        "*  use a for loop and the `range()` function  \n",
        "*  use an *if* statment to determine if a number is a multiple of 3 (number % 3 is 0) or a multiple of 10 (calculated the same way).  If the number is a multiple of 3 or 10, print it.      \n",
        "\n",
        "Expected output:  \n",
        "510  \n",
        "540  \n",
        "570  \n",
        "600  \n",
        "630  \n",
        "660  \n",
        "690  \n",
        "720  \n",
        "750  \n",
        "780  \n",
        "810  \n",
        "840  \n",
        "870  \n",
        "900  \n",
        "930  \n",
        "960  \n",
        "990  \n",
        "1020  \n",
        "1050  \n",
        "1080  \n",
        "1110  \n",
        "1140  \n",
        "1170  \n",
        "1200  \n",
        "1230  \n",
        "1260  \n",
        "1290  \n",
        "1320  \n",
        "1350  \n",
        "1380  \n",
        "1410  \n",
        "1440  \n",
        "1470  "
      ]
    },
    {
      "cell_type": "code",
      "metadata": {
        "id": "pN0--oheCHPC",
        "colab": {
          "base_uri": "https://localhost:8080/"
        },
        "outputId": "e07657ca-7a19-49eb-c836-3f838c828d3c"
      },
      "source": [
        "def find_multiples():\n",
        "    for i in range(500,1501):\n",
        "        if i % 3 == 0 or i % 10 == 0:\n",
        "           print(i)\n",
        "find_multiples()"
      ],
      "execution_count": 28,
      "outputs": [
        {
          "output_type": "stream",
          "text": [
            "500\n",
            "501\n",
            "504\n",
            "507\n",
            "510\n",
            "513\n",
            "516\n",
            "519\n",
            "520\n",
            "522\n",
            "525\n",
            "528\n",
            "530\n",
            "531\n",
            "534\n",
            "537\n",
            "540\n",
            "543\n",
            "546\n",
            "549\n",
            "550\n",
            "552\n",
            "555\n",
            "558\n",
            "560\n",
            "561\n",
            "564\n",
            "567\n",
            "570\n",
            "573\n",
            "576\n",
            "579\n",
            "580\n",
            "582\n",
            "585\n",
            "588\n",
            "590\n",
            "591\n",
            "594\n",
            "597\n",
            "600\n",
            "603\n",
            "606\n",
            "609\n",
            "610\n",
            "612\n",
            "615\n",
            "618\n",
            "620\n",
            "621\n",
            "624\n",
            "627\n",
            "630\n",
            "633\n",
            "636\n",
            "639\n",
            "640\n",
            "642\n",
            "645\n",
            "648\n",
            "650\n",
            "651\n",
            "654\n",
            "657\n",
            "660\n",
            "663\n",
            "666\n",
            "669\n",
            "670\n",
            "672\n",
            "675\n",
            "678\n",
            "680\n",
            "681\n",
            "684\n",
            "687\n",
            "690\n",
            "693\n",
            "696\n",
            "699\n",
            "700\n",
            "702\n",
            "705\n",
            "708\n",
            "710\n",
            "711\n",
            "714\n",
            "717\n",
            "720\n",
            "723\n",
            "726\n",
            "729\n",
            "730\n",
            "732\n",
            "735\n",
            "738\n",
            "740\n",
            "741\n",
            "744\n",
            "747\n",
            "750\n",
            "753\n",
            "756\n",
            "759\n",
            "760\n",
            "762\n",
            "765\n",
            "768\n",
            "770\n",
            "771\n",
            "774\n",
            "777\n",
            "780\n",
            "783\n",
            "786\n",
            "789\n",
            "790\n",
            "792\n",
            "795\n",
            "798\n",
            "800\n",
            "801\n",
            "804\n",
            "807\n",
            "810\n",
            "813\n",
            "816\n",
            "819\n",
            "820\n",
            "822\n",
            "825\n",
            "828\n",
            "830\n",
            "831\n",
            "834\n",
            "837\n",
            "840\n",
            "843\n",
            "846\n",
            "849\n",
            "850\n",
            "852\n",
            "855\n",
            "858\n",
            "860\n",
            "861\n",
            "864\n",
            "867\n",
            "870\n",
            "873\n",
            "876\n",
            "879\n",
            "880\n",
            "882\n",
            "885\n",
            "888\n",
            "890\n",
            "891\n",
            "894\n",
            "897\n",
            "900\n",
            "903\n",
            "906\n",
            "909\n",
            "910\n",
            "912\n",
            "915\n",
            "918\n",
            "920\n",
            "921\n",
            "924\n",
            "927\n",
            "930\n",
            "933\n",
            "936\n",
            "939\n",
            "940\n",
            "942\n",
            "945\n",
            "948\n",
            "950\n",
            "951\n",
            "954\n",
            "957\n",
            "960\n",
            "963\n",
            "966\n",
            "969\n",
            "970\n",
            "972\n",
            "975\n",
            "978\n",
            "980\n",
            "981\n",
            "984\n",
            "987\n",
            "990\n",
            "993\n",
            "996\n",
            "999\n",
            "1000\n",
            "1002\n",
            "1005\n",
            "1008\n",
            "1010\n",
            "1011\n",
            "1014\n",
            "1017\n",
            "1020\n",
            "1023\n",
            "1026\n",
            "1029\n",
            "1030\n",
            "1032\n",
            "1035\n",
            "1038\n",
            "1040\n",
            "1041\n",
            "1044\n",
            "1047\n",
            "1050\n",
            "1053\n",
            "1056\n",
            "1059\n",
            "1060\n",
            "1062\n",
            "1065\n",
            "1068\n",
            "1070\n",
            "1071\n",
            "1074\n",
            "1077\n",
            "1080\n",
            "1083\n",
            "1086\n",
            "1089\n",
            "1090\n",
            "1092\n",
            "1095\n",
            "1098\n",
            "1100\n",
            "1101\n",
            "1104\n",
            "1107\n",
            "1110\n",
            "1113\n",
            "1116\n",
            "1119\n",
            "1120\n",
            "1122\n",
            "1125\n",
            "1128\n",
            "1130\n",
            "1131\n",
            "1134\n",
            "1137\n",
            "1140\n",
            "1143\n",
            "1146\n",
            "1149\n",
            "1150\n",
            "1152\n",
            "1155\n",
            "1158\n",
            "1160\n",
            "1161\n",
            "1164\n",
            "1167\n",
            "1170\n",
            "1173\n",
            "1176\n",
            "1179\n",
            "1180\n",
            "1182\n",
            "1185\n",
            "1188\n",
            "1190\n",
            "1191\n",
            "1194\n",
            "1197\n",
            "1200\n",
            "1203\n",
            "1206\n",
            "1209\n",
            "1210\n",
            "1212\n",
            "1215\n",
            "1218\n",
            "1220\n",
            "1221\n",
            "1224\n",
            "1227\n",
            "1230\n",
            "1233\n",
            "1236\n",
            "1239\n",
            "1240\n",
            "1242\n",
            "1245\n",
            "1248\n",
            "1250\n",
            "1251\n",
            "1254\n",
            "1257\n",
            "1260\n",
            "1263\n",
            "1266\n",
            "1269\n",
            "1270\n",
            "1272\n",
            "1275\n",
            "1278\n",
            "1280\n",
            "1281\n",
            "1284\n",
            "1287\n",
            "1290\n",
            "1293\n",
            "1296\n",
            "1299\n",
            "1300\n",
            "1302\n",
            "1305\n",
            "1308\n",
            "1310\n",
            "1311\n",
            "1314\n",
            "1317\n",
            "1320\n",
            "1323\n",
            "1326\n",
            "1329\n",
            "1330\n",
            "1332\n",
            "1335\n",
            "1338\n",
            "1340\n",
            "1341\n",
            "1344\n",
            "1347\n",
            "1350\n",
            "1353\n",
            "1356\n",
            "1359\n",
            "1360\n",
            "1362\n",
            "1365\n",
            "1368\n",
            "1370\n",
            "1371\n",
            "1374\n",
            "1377\n",
            "1380\n",
            "1383\n",
            "1386\n",
            "1389\n",
            "1390\n",
            "1392\n",
            "1395\n",
            "1398\n",
            "1400\n",
            "1401\n",
            "1404\n",
            "1407\n",
            "1410\n",
            "1413\n",
            "1416\n",
            "1419\n",
            "1420\n",
            "1422\n",
            "1425\n",
            "1428\n",
            "1430\n",
            "1431\n",
            "1434\n",
            "1437\n",
            "1440\n",
            "1443\n",
            "1446\n",
            "1449\n",
            "1450\n",
            "1452\n",
            "1455\n",
            "1458\n",
            "1460\n",
            "1461\n",
            "1464\n",
            "1467\n",
            "1470\n",
            "1473\n",
            "1476\n",
            "1479\n",
            "1480\n",
            "1482\n",
            "1485\n",
            "1488\n",
            "1490\n",
            "1491\n",
            "1494\n",
            "1497\n",
            "1500\n"
          ],
          "name": "stdout"
        }
      ]
    }
  ]
}