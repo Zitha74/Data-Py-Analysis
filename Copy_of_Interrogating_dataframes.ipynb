{
  "nbformat": 4,
  "nbformat_minor": 0,
  "metadata": {
    "colab": {
      "name": "Copy of Interrogating_dataframes.ipynb",
      "provenance": [],
      "collapsed_sections": [],
      "include_colab_link": true
    },
    "kernelspec": {
      "name": "python3",
      "display_name": "Python 3"
    },
    "language_info": {
      "name": "python"
    }
  },
  "cells": [
    {
      "cell_type": "markdown",
      "metadata": {
        "id": "view-in-github",
        "colab_type": "text"
      },
      "source": [
        "<a href=\"https://colab.research.google.com/github/Zitha74/Data-Py-Analysis/blob/main/Copy_of_Interrogating_dataframes.ipynb\" target=\"_parent\"><img src=\"https://colab.research.google.com/assets/colab-badge.svg\" alt=\"Open In Colab\"/></a>"
      ]
    },
    {
      "cell_type": "markdown",
      "metadata": {
        "id": "1Gs0TsVUvHgr"
      },
      "source": [
        "# Interrogating the dataframe\n",
        "---\n",
        "\n",
        "We use pandas to create dataframes from data sets in files or online tables.\n",
        "\n",
        "Once we have the dataframe we might want to:  \n",
        "*   display a subset of rows\n",
        "*   *   we can do this using df.head(), df.tail() or df.iloc[index]\n",
        "*   display a subset of columns\n",
        "*   *   we can do this using the column name as the key, e.g.   \n",
        "`                df['rain (mm)']`  \n",
        "*   *   we can display more than one column, simply by listing the columns in the square brackets, e.g.   \n",
        "`                df[['rain (mm)', 'tmin (degC)', 'sun (hours)']]`  \n",
        "*   *   and can dislay a subset of rows for a subset of columns, e.g.  \n",
        " `               df[['rain (mm)', 'tmax (degC)']].head(10)`\n",
        "\n",
        "\n"
      ]
    },
    {
      "cell_type": "markdown",
      "metadata": {
        "id": "rugxYQSIyHiR"
      },
      "source": [
        "### Exercise 1 - get the data, look at first 10 records\n",
        "---\n",
        "\n",
        "\n",
        "1.  Import the pandas library with the alias pd  \n",
        "2.  Read the sheet with the name \"Industry Migration\" from the Excel file from this link: https://github.com/futureCodersSE/working-with-data/blob/main/Data%20sets/public_use-talent-migration.xlsx?raw=true  (*Hint:  use pd.read_excel(url, sheet_name=\"Industry Migration\") with the above url.*)\n",
        "3.  display the first 10 rows of the data\n",
        "\n"
      ]
    },
    {
      "cell_type": "code",
      "metadata": {
        "id": "WHEnQlll1vyL"
      },
      "source": [
        "import pandas as pd\n",
        "url = \"https://github.com/futureCodersSE/working-with-data/blob/main/Data%20sets/public_use-talent-migration.xlsx?raw=true\"\n",
        "industry_migration = pd.read_excel(url,sheet_name=\"Industry Migration\")\n",
        "industry_migration.head(10)"
      ],
      "execution_count": null,
      "outputs": []
    },
    {
      "cell_type": "markdown",
      "metadata": {
        "id": "dBsdAsk43aoX"
      },
      "source": [
        "### Exercise 2 - display just two columns\n",
        "\n",
        "Display the first 50 records focusing on the industries where migration is happening in each country (show just country_name and industry_name)."
      ]
    },
    {
      "cell_type": "code",
      "metadata": {
        "id": "rDEzOpDXvGx0",
        "colab": {
          "base_uri": "https://localhost:8080/",
          "height": 1000
        },
        "outputId": "8aed2484-a029-43a7-c8db-bf75c41d5961"
      },
      "source": [
        "industry_migration[[\"country_name\", \"industry_name\"]].head(50)"
      ],
      "execution_count": 2,
      "outputs": [
        {
          "output_type": "execute_result",
          "data": {
            "text/html": [
              "<div>\n",
              "<style scoped>\n",
              "    .dataframe tbody tr th:only-of-type {\n",
              "        vertical-align: middle;\n",
              "    }\n",
              "\n",
              "    .dataframe tbody tr th {\n",
              "        vertical-align: top;\n",
              "    }\n",
              "\n",
              "    .dataframe thead th {\n",
              "        text-align: right;\n",
              "    }\n",
              "</style>\n",
              "<table border=\"1\" class=\"dataframe\">\n",
              "  <thead>\n",
              "    <tr style=\"text-align: right;\">\n",
              "      <th></th>\n",
              "      <th>country_name</th>\n",
              "      <th>industry_name</th>\n",
              "    </tr>\n",
              "  </thead>\n",
              "  <tbody>\n",
              "    <tr>\n",
              "      <th>0</th>\n",
              "      <td>United Arab Emirates</td>\n",
              "      <td>Defense &amp; Space</td>\n",
              "    </tr>\n",
              "    <tr>\n",
              "      <th>1</th>\n",
              "      <td>United Arab Emirates</td>\n",
              "      <td>Computer Hardware</td>\n",
              "    </tr>\n",
              "    <tr>\n",
              "      <th>2</th>\n",
              "      <td>United Arab Emirates</td>\n",
              "      <td>Computer Software</td>\n",
              "    </tr>\n",
              "    <tr>\n",
              "      <th>3</th>\n",
              "      <td>United Arab Emirates</td>\n",
              "      <td>Computer Networking</td>\n",
              "    </tr>\n",
              "    <tr>\n",
              "      <th>4</th>\n",
              "      <td>United Arab Emirates</td>\n",
              "      <td>Internet</td>\n",
              "    </tr>\n",
              "    <tr>\n",
              "      <th>5</th>\n",
              "      <td>United Arab Emirates</td>\n",
              "      <td>Telecommunications</td>\n",
              "    </tr>\n",
              "    <tr>\n",
              "      <th>6</th>\n",
              "      <td>United Arab Emirates</td>\n",
              "      <td>Law Practice</td>\n",
              "    </tr>\n",
              "    <tr>\n",
              "      <th>7</th>\n",
              "      <td>United Arab Emirates</td>\n",
              "      <td>Legal Services</td>\n",
              "    </tr>\n",
              "    <tr>\n",
              "      <th>8</th>\n",
              "      <td>United Arab Emirates</td>\n",
              "      <td>Management Consulting</td>\n",
              "    </tr>\n",
              "    <tr>\n",
              "      <th>9</th>\n",
              "      <td>United Arab Emirates</td>\n",
              "      <td>Biotechnology</td>\n",
              "    </tr>\n",
              "    <tr>\n",
              "      <th>10</th>\n",
              "      <td>United Arab Emirates</td>\n",
              "      <td>Medical Practice</td>\n",
              "    </tr>\n",
              "    <tr>\n",
              "      <th>11</th>\n",
              "      <td>United Arab Emirates</td>\n",
              "      <td>Hospital &amp; Health Care</td>\n",
              "    </tr>\n",
              "    <tr>\n",
              "      <th>12</th>\n",
              "      <td>United Arab Emirates</td>\n",
              "      <td>Pharmaceuticals</td>\n",
              "    </tr>\n",
              "    <tr>\n",
              "      <th>13</th>\n",
              "      <td>United Arab Emirates</td>\n",
              "      <td>Medical Device</td>\n",
              "    </tr>\n",
              "    <tr>\n",
              "      <th>14</th>\n",
              "      <td>United Arab Emirates</td>\n",
              "      <td>Cosmetics</td>\n",
              "    </tr>\n",
              "    <tr>\n",
              "      <th>15</th>\n",
              "      <td>United Arab Emirates</td>\n",
              "      <td>Apparel &amp; Fashion</td>\n",
              "    </tr>\n",
              "    <tr>\n",
              "      <th>16</th>\n",
              "      <td>United Arab Emirates</td>\n",
              "      <td>Sporting Goods</td>\n",
              "    </tr>\n",
              "    <tr>\n",
              "      <th>17</th>\n",
              "      <td>United Arab Emirates</td>\n",
              "      <td>Tobacco</td>\n",
              "    </tr>\n",
              "    <tr>\n",
              "      <th>18</th>\n",
              "      <td>United Arab Emirates</td>\n",
              "      <td>Supermarkets</td>\n",
              "    </tr>\n",
              "    <tr>\n",
              "      <th>19</th>\n",
              "      <td>United Arab Emirates</td>\n",
              "      <td>Food Production</td>\n",
              "    </tr>\n",
              "    <tr>\n",
              "      <th>20</th>\n",
              "      <td>United Arab Emirates</td>\n",
              "      <td>Consumer Electronics</td>\n",
              "    </tr>\n",
              "    <tr>\n",
              "      <th>21</th>\n",
              "      <td>United Arab Emirates</td>\n",
              "      <td>Consumer Goods</td>\n",
              "    </tr>\n",
              "    <tr>\n",
              "      <th>22</th>\n",
              "      <td>United Arab Emirates</td>\n",
              "      <td>Furniture</td>\n",
              "    </tr>\n",
              "    <tr>\n",
              "      <th>23</th>\n",
              "      <td>United Arab Emirates</td>\n",
              "      <td>Retail</td>\n",
              "    </tr>\n",
              "    <tr>\n",
              "      <th>24</th>\n",
              "      <td>United Arab Emirates</td>\n",
              "      <td>Entertainment</td>\n",
              "    </tr>\n",
              "    <tr>\n",
              "      <th>25</th>\n",
              "      <td>United Arab Emirates</td>\n",
              "      <td>Leisure, Travel &amp; Tourism</td>\n",
              "    </tr>\n",
              "    <tr>\n",
              "      <th>26</th>\n",
              "      <td>United Arab Emirates</td>\n",
              "      <td>Hospitality</td>\n",
              "    </tr>\n",
              "    <tr>\n",
              "      <th>27</th>\n",
              "      <td>United Arab Emirates</td>\n",
              "      <td>Restaurants</td>\n",
              "    </tr>\n",
              "    <tr>\n",
              "      <th>28</th>\n",
              "      <td>United Arab Emirates</td>\n",
              "      <td>Sports</td>\n",
              "    </tr>\n",
              "    <tr>\n",
              "      <th>29</th>\n",
              "      <td>United Arab Emirates</td>\n",
              "      <td>Food &amp; Beverages</td>\n",
              "    </tr>\n",
              "    <tr>\n",
              "      <th>30</th>\n",
              "      <td>United Arab Emirates</td>\n",
              "      <td>Motion Pictures &amp; Film</td>\n",
              "    </tr>\n",
              "    <tr>\n",
              "      <th>31</th>\n",
              "      <td>United Arab Emirates</td>\n",
              "      <td>Broadcast Media</td>\n",
              "    </tr>\n",
              "    <tr>\n",
              "      <th>32</th>\n",
              "      <td>United Arab Emirates</td>\n",
              "      <td>Banking</td>\n",
              "    </tr>\n",
              "    <tr>\n",
              "      <th>33</th>\n",
              "      <td>United Arab Emirates</td>\n",
              "      <td>Insurance</td>\n",
              "    </tr>\n",
              "    <tr>\n",
              "      <th>34</th>\n",
              "      <td>United Arab Emirates</td>\n",
              "      <td>Financial Services</td>\n",
              "    </tr>\n",
              "    <tr>\n",
              "      <th>35</th>\n",
              "      <td>United Arab Emirates</td>\n",
              "      <td>Real Estate</td>\n",
              "    </tr>\n",
              "    <tr>\n",
              "      <th>36</th>\n",
              "      <td>United Arab Emirates</td>\n",
              "      <td>Investment Banking</td>\n",
              "    </tr>\n",
              "    <tr>\n",
              "      <th>37</th>\n",
              "      <td>United Arab Emirates</td>\n",
              "      <td>Investment Management</td>\n",
              "    </tr>\n",
              "    <tr>\n",
              "      <th>38</th>\n",
              "      <td>United Arab Emirates</td>\n",
              "      <td>Accounting</td>\n",
              "    </tr>\n",
              "    <tr>\n",
              "      <th>39</th>\n",
              "      <td>United Arab Emirates</td>\n",
              "      <td>Construction</td>\n",
              "    </tr>\n",
              "    <tr>\n",
              "      <th>40</th>\n",
              "      <td>United Arab Emirates</td>\n",
              "      <td>Building Materials</td>\n",
              "    </tr>\n",
              "    <tr>\n",
              "      <th>41</th>\n",
              "      <td>United Arab Emirates</td>\n",
              "      <td>Architecture &amp; Planning</td>\n",
              "    </tr>\n",
              "    <tr>\n",
              "      <th>42</th>\n",
              "      <td>United Arab Emirates</td>\n",
              "      <td>Civil Engineering</td>\n",
              "    </tr>\n",
              "    <tr>\n",
              "      <th>43</th>\n",
              "      <td>United Arab Emirates</td>\n",
              "      <td>Aviation &amp; Aerospace</td>\n",
              "    </tr>\n",
              "    <tr>\n",
              "      <th>44</th>\n",
              "      <td>United Arab Emirates</td>\n",
              "      <td>Automotive</td>\n",
              "    </tr>\n",
              "    <tr>\n",
              "      <th>45</th>\n",
              "      <td>United Arab Emirates</td>\n",
              "      <td>Chemicals</td>\n",
              "    </tr>\n",
              "    <tr>\n",
              "      <th>46</th>\n",
              "      <td>United Arab Emirates</td>\n",
              "      <td>Machinery</td>\n",
              "    </tr>\n",
              "    <tr>\n",
              "      <th>47</th>\n",
              "      <td>United Arab Emirates</td>\n",
              "      <td>Mining &amp; Metals</td>\n",
              "    </tr>\n",
              "    <tr>\n",
              "      <th>48</th>\n",
              "      <td>United Arab Emirates</td>\n",
              "      <td>Oil &amp; Energy</td>\n",
              "    </tr>\n",
              "    <tr>\n",
              "      <th>49</th>\n",
              "      <td>United Arab Emirates</td>\n",
              "      <td>Shipbuilding</td>\n",
              "    </tr>\n",
              "  </tbody>\n",
              "</table>\n",
              "</div>"
            ],
            "text/plain": [
              "            country_name              industry_name\n",
              "0   United Arab Emirates            Defense & Space\n",
              "1   United Arab Emirates          Computer Hardware\n",
              "2   United Arab Emirates          Computer Software\n",
              "3   United Arab Emirates        Computer Networking\n",
              "4   United Arab Emirates                   Internet\n",
              "5   United Arab Emirates         Telecommunications\n",
              "6   United Arab Emirates               Law Practice\n",
              "7   United Arab Emirates             Legal Services\n",
              "8   United Arab Emirates      Management Consulting\n",
              "9   United Arab Emirates              Biotechnology\n",
              "10  United Arab Emirates           Medical Practice\n",
              "11  United Arab Emirates     Hospital & Health Care\n",
              "12  United Arab Emirates            Pharmaceuticals\n",
              "13  United Arab Emirates             Medical Device\n",
              "14  United Arab Emirates                  Cosmetics\n",
              "15  United Arab Emirates          Apparel & Fashion\n",
              "16  United Arab Emirates             Sporting Goods\n",
              "17  United Arab Emirates                    Tobacco\n",
              "18  United Arab Emirates               Supermarkets\n",
              "19  United Arab Emirates            Food Production\n",
              "20  United Arab Emirates       Consumer Electronics\n",
              "21  United Arab Emirates             Consumer Goods\n",
              "22  United Arab Emirates                  Furniture\n",
              "23  United Arab Emirates                     Retail\n",
              "24  United Arab Emirates              Entertainment\n",
              "25  United Arab Emirates  Leisure, Travel & Tourism\n",
              "26  United Arab Emirates                Hospitality\n",
              "27  United Arab Emirates                Restaurants\n",
              "28  United Arab Emirates                     Sports\n",
              "29  United Arab Emirates           Food & Beverages\n",
              "30  United Arab Emirates     Motion Pictures & Film\n",
              "31  United Arab Emirates            Broadcast Media\n",
              "32  United Arab Emirates                    Banking\n",
              "33  United Arab Emirates                  Insurance\n",
              "34  United Arab Emirates         Financial Services\n",
              "35  United Arab Emirates                Real Estate\n",
              "36  United Arab Emirates         Investment Banking\n",
              "37  United Arab Emirates      Investment Management\n",
              "38  United Arab Emirates                 Accounting\n",
              "39  United Arab Emirates               Construction\n",
              "40  United Arab Emirates         Building Materials\n",
              "41  United Arab Emirates    Architecture & Planning\n",
              "42  United Arab Emirates          Civil Engineering\n",
              "43  United Arab Emirates       Aviation & Aerospace\n",
              "44  United Arab Emirates                 Automotive\n",
              "45  United Arab Emirates                  Chemicals\n",
              "46  United Arab Emirates                  Machinery\n",
              "47  United Arab Emirates            Mining & Metals\n",
              "48  United Arab Emirates               Oil & Energy\n",
              "49  United Arab Emirates               Shipbuilding"
            ]
          },
          "metadata": {
            "tags": []
          },
          "execution_count": 2
        }
      ]
    },
    {
      "cell_type": "markdown",
      "metadata": {
        "id": "ZIsrvFNjAuWE"
      },
      "source": [
        "### Exercise 3 - yearly migration\n",
        "\n",
        "*   display the middle 20 records, showing the country_name and the migration for each of the years 2015 to 2019.\n",
        "---\n"
      ]
    },
    {
      "cell_type": "code",
      "metadata": {
        "id": "yXpe9SuBBloC"
      },
      "source": [
        "industry_migration[[\"country_name\",\"net_per_10K_2015\",\"net_per_10K_2016\",\"net_per_10K_2017\",\"net_per_10K_2018\",\"net_per_10K_2019\"]].iloc[2647:2667]"
      ],
      "execution_count": null,
      "outputs": []
    },
    {
      "cell_type": "markdown",
      "metadata": {
        "id": "2wfsDcuvBl7o"
      },
      "source": [
        "### Exercise 4 - migration to and from\n",
        "---\n",
        "\n",
        "The Excel file at this link (which you have already opened above): https://github.com/futureCodersSE/working-with-data/blob/main/Data%20sets/public_use-talent-migration.xlsx?raw=true has three data sheets, \"Country Migration\", \"Industry Migration\" and \"Skills Migration\"\n",
        "\n",
        "Open the data sheet \"Country Migration\" and display the first 10 records showing the country that migration was to, the country it was from and the net migration for each year from 2015 to 2019"
      ]
    },
    {
      "cell_type": "code",
      "metadata": {
        "id": "Q2tyWrG7-UAW",
        "colab": {
          "base_uri": "https://localhost:8080/",
          "height": 359
        },
        "outputId": "dcd47e77-50d9-4223-dffd-7ffaa04297bc"
      },
      "source": [
        "import pandas as pd \n",
        "url =\"https://github.com/futureCodersSE/working-with-data/blob/main/Data%20sets/public_use-talent-migration.xlsx?raw=true\"\n",
        "country_migration = pd.read_excel(url,sheet_name=\"Country Migration\")\n",
        "country_migration[[\"base_country_name\",\"net_per_10K_2015\",\"net_per_10K_2016\",\"net_per_10K_2017\",\"net_per_10K_2018\",\"net_per_10K_2019\"]].head(10)"
      ],
      "execution_count": 3,
      "outputs": [
        {
          "output_type": "execute_result",
          "data": {
            "text/html": [
              "<div>\n",
              "<style scoped>\n",
              "    .dataframe tbody tr th:only-of-type {\n",
              "        vertical-align: middle;\n",
              "    }\n",
              "\n",
              "    .dataframe tbody tr th {\n",
              "        vertical-align: top;\n",
              "    }\n",
              "\n",
              "    .dataframe thead th {\n",
              "        text-align: right;\n",
              "    }\n",
              "</style>\n",
              "<table border=\"1\" class=\"dataframe\">\n",
              "  <thead>\n",
              "    <tr style=\"text-align: right;\">\n",
              "      <th></th>\n",
              "      <th>base_country_name</th>\n",
              "      <th>net_per_10K_2015</th>\n",
              "      <th>net_per_10K_2016</th>\n",
              "      <th>net_per_10K_2017</th>\n",
              "      <th>net_per_10K_2018</th>\n",
              "      <th>net_per_10K_2019</th>\n",
              "    </tr>\n",
              "  </thead>\n",
              "  <tbody>\n",
              "    <tr>\n",
              "      <th>0</th>\n",
              "      <td>United Arab Emirates</td>\n",
              "      <td>0.19</td>\n",
              "      <td>0.16</td>\n",
              "      <td>0.11</td>\n",
              "      <td>-0.05</td>\n",
              "      <td>-0.02</td>\n",
              "    </tr>\n",
              "    <tr>\n",
              "      <th>1</th>\n",
              "      <td>United Arab Emirates</td>\n",
              "      <td>0.19</td>\n",
              "      <td>0.25</td>\n",
              "      <td>0.57</td>\n",
              "      <td>0.55</td>\n",
              "      <td>0.78</td>\n",
              "    </tr>\n",
              "    <tr>\n",
              "      <th>2</th>\n",
              "      <td>United Arab Emirates</td>\n",
              "      <td>-0.01</td>\n",
              "      <td>0.04</td>\n",
              "      <td>0.11</td>\n",
              "      <td>-0.02</td>\n",
              "      <td>-0.06</td>\n",
              "    </tr>\n",
              "    <tr>\n",
              "      <th>3</th>\n",
              "      <td>United Arab Emirates</td>\n",
              "      <td>0.16</td>\n",
              "      <td>0.18</td>\n",
              "      <td>0.04</td>\n",
              "      <td>0.01</td>\n",
              "      <td>0.23</td>\n",
              "    </tr>\n",
              "    <tr>\n",
              "      <th>4</th>\n",
              "      <td>United Arab Emirates</td>\n",
              "      <td>0.10</td>\n",
              "      <td>0.05</td>\n",
              "      <td>0.03</td>\n",
              "      <td>-0.01</td>\n",
              "      <td>0.02</td>\n",
              "    </tr>\n",
              "    <tr>\n",
              "      <th>5</th>\n",
              "      <td>United Arab Emirates</td>\n",
              "      <td>-1.06</td>\n",
              "      <td>-3.31</td>\n",
              "      <td>-4.01</td>\n",
              "      <td>-4.58</td>\n",
              "      <td>-4.09</td>\n",
              "    </tr>\n",
              "    <tr>\n",
              "      <th>6</th>\n",
              "      <td>United Arab Emirates</td>\n",
              "      <td>0.11</td>\n",
              "      <td>-0.08</td>\n",
              "      <td>-0.07</td>\n",
              "      <td>-0.05</td>\n",
              "      <td>-0.16</td>\n",
              "    </tr>\n",
              "    <tr>\n",
              "      <th>7</th>\n",
              "      <td>United Arab Emirates</td>\n",
              "      <td>0.24</td>\n",
              "      <td>0.25</td>\n",
              "      <td>0.10</td>\n",
              "      <td>0.05</td>\n",
              "      <td>0.04</td>\n",
              "    </tr>\n",
              "    <tr>\n",
              "      <th>8</th>\n",
              "      <td>United Arab Emirates</td>\n",
              "      <td>0.90</td>\n",
              "      <td>0.89</td>\n",
              "      <td>0.38</td>\n",
              "      <td>-0.07</td>\n",
              "      <td>0.15</td>\n",
              "    </tr>\n",
              "    <tr>\n",
              "      <th>9</th>\n",
              "      <td>United Arab Emirates</td>\n",
              "      <td>-0.21</td>\n",
              "      <td>-0.21</td>\n",
              "      <td>-0.26</td>\n",
              "      <td>-0.18</td>\n",
              "      <td>-0.04</td>\n",
              "    </tr>\n",
              "  </tbody>\n",
              "</table>\n",
              "</div>"
            ],
            "text/plain": [
              "      base_country_name  net_per_10K_2015  ...  net_per_10K_2018  net_per_10K_2019\n",
              "0  United Arab Emirates              0.19  ...             -0.05             -0.02\n",
              "1  United Arab Emirates              0.19  ...              0.55              0.78\n",
              "2  United Arab Emirates             -0.01  ...             -0.02             -0.06\n",
              "3  United Arab Emirates              0.16  ...              0.01              0.23\n",
              "4  United Arab Emirates              0.10  ...             -0.01              0.02\n",
              "5  United Arab Emirates             -1.06  ...             -4.58             -4.09\n",
              "6  United Arab Emirates              0.11  ...             -0.05             -0.16\n",
              "7  United Arab Emirates              0.24  ...              0.05              0.04\n",
              "8  United Arab Emirates              0.90  ...             -0.07              0.15\n",
              "9  United Arab Emirates             -0.21  ...             -0.18             -0.04\n",
              "\n",
              "[10 rows x 6 columns]"
            ]
          },
          "metadata": {
            "tags": []
          },
          "execution_count": 3
        }
      ]
    },
    {
      "cell_type": "markdown",
      "metadata": {
        "id": "vb9QQv_VBHVk"
      },
      "source": [
        "### Exercise 5 - unique countries\n",
        "\n",
        "Using the \"Country Migration\" sheet, get all the unique country names from where people have migrated (base_country_name) and use a for loop to print a list of the countries."
      ]
    },
    {
      "cell_type": "code",
      "metadata": {
        "id": "f6uCYdEHBw1f",
        "colab": {
          "base_uri": "https://localhost:8080/"
        },
        "outputId": "95723f47-4cc2-47c3-ee03-e78692e8d635"
      },
      "source": [
        "#  USING FOR LOOP TO PRINT LIST OF UNIQUE COUNTRY CODES\n",
        "for country in country_migration[\"base_country_name\"].unique():\n",
        "  print(country)"
      ],
      "execution_count": 4,
      "outputs": [
        {
          "output_type": "stream",
          "text": [
            "United Arab Emirates\n",
            "Afghanistan\n",
            "Albania\n",
            "Armenia\n",
            "Angola\n",
            "Argentina\n",
            "Austria\n",
            "Australia\n",
            "Azerbaijan\n",
            "Bosnia and Herzegovina\n",
            "Bangladesh\n",
            "Belgium\n",
            "Burkina Faso\n",
            "Bulgaria\n",
            "Bahrain\n",
            "Benin\n",
            "Bolivia\n",
            "Brazil\n",
            "Bahamas, The\n",
            "Botswana\n",
            "Belarus\n",
            "Canada\n",
            "Congo, Dem. Rep.\n",
            "Switzerland\n",
            "Cote d'Ivoire\n",
            "Chile\n",
            "Cameroon\n",
            "China\n",
            "Colombia\n",
            "Costa Rica\n",
            "Cuba\n",
            "Cyprus\n",
            "Czech Republic\n",
            "Germany\n",
            "Denmark\n",
            "Dominican Republic\n",
            "Algeria\n",
            "Ecuador\n",
            "Estonia\n",
            "Egypt, Arab Rep.\n",
            "Spain\n",
            "Ethiopia\n",
            "Finland\n",
            "Fiji\n",
            "France\n",
            "Gabon\n",
            "United Kingdom\n",
            "Georgia\n",
            "Ghana\n",
            "Greece\n",
            "Guatemala\n",
            "Hong Kong SAR, China\n",
            "Honduras\n",
            "Croatia\n",
            "Haiti\n",
            "Hungary\n",
            "Indonesia\n",
            "Ireland\n",
            "Israel\n",
            "India\n",
            "Iraq\n",
            "Iran, Islamic Rep.\n",
            "Iceland\n",
            "Italy\n",
            "Jamaica\n",
            "Jordan\n",
            "Japan\n",
            "Kenya\n",
            "Cambodia\n",
            "Korea, Rep.\n",
            "Kuwait\n",
            "Kazakhstan\n",
            "Lebanon\n",
            "Sri Lanka\n",
            "Lithuania\n",
            "Luxembourg\n",
            "Latvia\n",
            "Libya\n",
            "Morocco\n",
            "Moldova\n",
            "Madagascar\n",
            "Macedonia, FYR\n",
            "Mali\n",
            "Myanmar\n",
            "Mongolia\n",
            "Malta\n",
            "Mauritius\n",
            "Malawi\n",
            "Mexico\n",
            "Malaysia\n",
            "Mozambique\n",
            "Namibia\n",
            "Nigeria\n",
            "Nicaragua\n",
            "Netherlands\n",
            "Norway\n",
            "Nepal\n",
            "New Zealand\n",
            "Oman\n",
            "Panama\n",
            "Peru\n",
            "Papua New Guinea\n",
            "Philippines\n",
            "Pakistan\n",
            "Poland\n",
            "Puerto Rico\n",
            "West Bank and Gaza\n",
            "Portugal\n",
            "Paraguay\n",
            "Qatar\n",
            "Romania\n",
            "Serbia\n",
            "Rwanda\n",
            "Saudi Arabia\n",
            "Sudan\n",
            "Sweden\n",
            "Singapore\n",
            "Slovenia\n",
            "Slovak Republic\n",
            "Senegal\n",
            "El Salvador\n",
            "Syrian Arab Republic\n",
            "Togo\n",
            "Thailand\n",
            "Tunisia\n",
            "Turkey\n",
            "Trinidad and Tobago\n",
            "Taiwan, China\n",
            "Tanzania\n",
            "Ukraine\n",
            "Uganda\n",
            "United States\n",
            "Uruguay\n",
            "Uzbekistan\n",
            "Venezuela, RB\n",
            "Vietnam\n",
            "Yemen, Rep.\n",
            "South Africa\n",
            "Zambia\n",
            "Zimbabwe\n"
          ],
          "name": "stdout"
        }
      ]
    },
    {
      "cell_type": "markdown",
      "metadata": {
        "id": "SQNg0Sk5FaJ3"
      },
      "source": [
        "### Exercise 6 - how many countries are migrated to\n",
        "\n",
        "Using the \"Country Migration\" sheet again, get all the unique country names to where people have migrated and display the number of unique countries."
      ]
    },
    {
      "cell_type": "code",
      "metadata": {
        "id": "j49Nm5Qlccal",
        "colab": {
          "base_uri": "https://localhost:8080/"
        },
        "outputId": "d99a107b-85c1-4e6a-ae3f-db5bac1d7cb7"
      },
      "source": [
        "# GET ALL UNIQUE COUNTRIES, COUNT AND DISPLAY(EACH COUNTRY), THEN NUMBER OF UNIQUE target_country_names\n",
        "#\n",
        "# OPTION 1 \n",
        "#\n",
        "#target_country_df = country_migration[\"target_country_name\"].unique()\n",
        "#target_country_df\n",
        "#count = 0\n",
        "#for item in target_country_df:\n",
        "#  print(item)\n",
        "#  count += 1\n",
        "#print(\"Total Number of Unique Target Countries : \", count )\n",
        "\n",
        "#=\n",
        "# OPTION 2  - RETURN ONLY THE COUNT OF THE UNIQUE target_country_names\n",
        "#=\n",
        "country_migration[\"target_country_name\"].nunique()"
      ],
      "execution_count": 5,
      "outputs": [
        {
          "output_type": "execute_result",
          "data": {
            "text/plain": [
              "140"
            ]
          },
          "metadata": {
            "tags": []
          },
          "execution_count": 5
        }
      ]
    },
    {
      "cell_type": "markdown",
      "metadata": {
        "id": "qyjM39DzFy3t"
      },
      "source": [
        "### Exercise 7 - skill sets\n",
        "---\n",
        "\n",
        "\n",
        "Using the \"Skill Migration\" data sheet, display the following:\n",
        "*  the first record\n",
        "*  the last 10 records\n",
        "*  records from index 500 to index 600  \n",
        "*  a count of all unique countries\n",
        "*  a list of all unique skill group categories\n",
        "*  the first 50 skill group names and net migration in 2019"
      ]
    },
    {
      "cell_type": "code",
      "metadata": {
        "id": "EWGy5iQHG8vA"
      },
      "source": [
        "import pandas as pd \n",
        "url = \"https://github.com/futureCodersSE/working-with-data/blob/main/Data%20sets/public_use-talent-migration.xlsx?raw=true\"\n",
        "skills_migration_df = pd.read_excel(url,sheet_name=\"Skill Migration\")\n",
        "skills_migration_df.info()"
      ],
      "execution_count": null,
      "outputs": []
    },
    {
      "cell_type": "code",
      "metadata": {
        "id": "oBjY_LrpAOUw"
      },
      "source": [
        "# DISPLAY THE FISRT RECORD\n",
        "skills_migration_df.head(1)\n",
        "#skills_migration_df.loc[1]"
      ],
      "execution_count": null,
      "outputs": []
    },
    {
      "cell_type": "code",
      "metadata": {
        "id": "kynN_p9VAgaa"
      },
      "source": [
        "# DISPLAY THE LAST 10 RECORDS\n",
        "skills_migration_df.tail(10)"
      ],
      "execution_count": null,
      "outputs": []
    },
    {
      "cell_type": "code",
      "metadata": {
        "id": "GEBIrTR6Arhc"
      },
      "source": [
        "# DISPLAY RECORDS FROM INDEX 500 TO INDEX 600\n",
        "skills_migration_df[500:600]"
      ],
      "execution_count": null,
      "outputs": []
    },
    {
      "cell_type": "code",
      "metadata": {
        "id": "57devp3yBNLv"
      },
      "source": [
        "# DISPLAY A COUNT OF ALL UNIQUE COUNTRIES\n",
        "skills_migration_df[\"country_name\"].nunique()"
      ],
      "execution_count": null,
      "outputs": []
    },
    {
      "cell_type": "code",
      "metadata": {
        "id": "_FkW1UfvBgut",
        "colab": {
          "base_uri": "https://localhost:8080/"
        },
        "outputId": "6ee01f47-22c1-4350-fd3e-e7fa919fdeed"
      },
      "source": [
        "# DISPLAY A LIST OF ALL UNIQUE skill_group_category\n",
        "\n",
        "for skill in skills_migration_df['skill_group_category'].unique():\n",
        "  print(skill)"
      ],
      "execution_count": 16,
      "outputs": [
        {
          "output_type": "stream",
          "text": [
            "Tech Skills\n",
            "Business Skills\n",
            "Specialized Industry Skills\n",
            "Disruptive Tech Skills\n",
            "Soft Skills\n"
          ],
          "name": "stdout"
        }
      ]
    },
    {
      "cell_type": "code",
      "metadata": {
        "id": "76SBBJgJCfln"
      },
      "source": [
        "# DISPLAY THE FIRST 50 skill group name for 2019 (skill_group_name,\tnet_per_10K_2019)\t\n",
        "skills_migration_df[['skill_group_name','net_per_10K_2019']].head(50)"
      ],
      "execution_count": null,
      "outputs": []
    },
    {
      "cell_type": "markdown",
      "metadata": {
        "id": "V_v89VIqG9Lq"
      },
      "source": [
        "### Exercise 8 - total net migration over 5 years\n",
        "---\n",
        "\n",
        "Using the Country Migration data sheet, display the record at position 10.  Using the column names to access the data in each column, add the five columns containing the net migration data together to calculate the total net migration over the 5 years between 2015 and 2019."
      ]
    },
    {
      "cell_type": "code",
      "metadata": {
        "id": "4yOmo5hfWlk4"
      },
      "source": [
        "import pandas as pd \n",
        "url =\"https://github.com/futureCodersSE/working-with-data/blob/main/Data%20sets/public_use-talent-migration.xlsx?raw=true\"\n",
        "country_migration = pd.read_excel(url,sheet_name=\"Country Migration\")\n",
        "country_migration.loc[0]\n",
        "country_migration.info()\n"
      ],
      "execution_count": null,
      "outputs": []
    },
    {
      "cell_type": "code",
      "metadata": {
        "id": "-IRysV13rNUo",
        "colab": {
          "base_uri": "https://localhost:8080/"
        },
        "outputId": "56a426ba-83f8-49a1-84a4-a84b5e170532"
      },
      "source": [
        "# display the record at position 10\n",
        "country_migration.iloc[10]"
      ],
      "execution_count": 37,
      "outputs": [
        {
          "output_type": "execute_result",
          "data": {
            "text/plain": [
              "base_country_code                                   ae\n",
              "base_country_name                 United Arab Emirates\n",
              "base_lat                                       23.4241\n",
              "base_long                                      53.8478\n",
              "base_country_wb_income                     High Income\n",
              "base_country_wb_region      Middle East & North Africa\n",
              "target_country_code                                 by\n",
              "target_country_name                            Belarus\n",
              "target_lat                                     53.7098\n",
              "target_long                                    27.9534\n",
              "target_country_wb_income           Upper Middle Income\n",
              "target_country_wb_region         Europe & Central Asia\n",
              "net_per_10K_2015                                  0.12\n",
              "net_per_10K_2016                                  0.12\n",
              "net_per_10K_2017                                  0.11\n",
              "net_per_10K_2018                                  0.12\n",
              "net_per_10K_2019                                   0.1\n",
              "Name: 10, dtype: object"
            ]
          },
          "metadata": {
            "tags": []
          },
          "execution_count": 37
        }
      ]
    },
    {
      "cell_type": "code",
      "metadata": {
        "id": "DZG6wJtNti_y",
        "colab": {
          "base_uri": "https://localhost:8080/"
        },
        "outputId": "3b3ef49a-5071-4426-f6a7-e685e3fc835e"
      },
      "source": [
        "# Using the column names to access the data in each column, \n",
        "# add the five columns containing the net migration data together to calculate the total net migration over the 5 years between 2015 and 2019.\n",
        "import pandas as pd \n",
        "url =\"https://github.com/futureCodersSE/working-with-data/blob/main/Data%20sets/public_use-talent-migration.xlsx?raw=true\"\n",
        "ctry_mig = pd.read_excel(url,sheet_name=\"Country Migration\")\n",
        "total_net = ctry_mig[\"net_per_10K_2015\"] + ctry_mig[\"net_per_10K_2016\"] + ctry_mig[\"net_per_10K_2017\"] + ctry_mig[\"net_per_10K_2018\"] + ctry_mig[\"net_per_10K_2019\"]\n",
        "ctry_mig[\"net_per_10K_total\"] = total_net\n",
        "ctry_mig[\"net_per_10K_total\"].sum()"
      ],
      "execution_count": 38,
      "outputs": [
        {
          "output_type": "execute_result",
          "data": {
            "text/plain": [
              "1942.92"
            ]
          },
          "metadata": {
            "tags": []
          },
          "execution_count": 38
        }
      ]
    },
    {
      "cell_type": "markdown",
      "metadata": {
        "id": "cFffYI2qJJI-"
      },
      "source": [
        "### Exercise 9 - formulating a text response\n",
        "\n",
        "Using the Industry Migration data sheet, display the record at position 100.  Using the column names again to access the data in each column, calculate net migration over the 5 years from 2015 to 2019.\n",
        "\n",
        "Then print the following message, adding the data where indicated:\n",
        "\n",
        "The total net migration into `country` of skilled workers for the `industry name` industry, during the years 2015-2019 was `total_net_migration`"
      ]
    },
    {
      "cell_type": "code",
      "metadata": {
        "id": "dYlVTLOGNoOO"
      },
      "source": [
        "import pandas as pd \n",
        "url =\"https://github.com/futureCodersSE/working-with-data/blob/main/Data%20sets/public_use-talent-migration.xlsx?raw=true\"\n",
        "ind_mig = pd.read_excel(url,sheet_name=\"Industry Migration\")\n",
        "ind_mig.head(5)"
      ],
      "execution_count": null,
      "outputs": []
    },
    {
      "cell_type": "code",
      "metadata": {
        "id": "l_r0mlsDTV1U"
      },
      "source": [
        "# DISPLAY THE RECORD AT POSITION 100\n",
        "ind_mig.iloc[100]"
      ],
      "execution_count": null,
      "outputs": []
    },
    {
      "cell_type": "code",
      "metadata": {
        "id": "VRNTZZJcTsTx"
      },
      "source": [
        "# USING THE COLUMN NAMES Access THE DATA in each column and CALCULATE  TOTAL NET MIGRATION OVER 5 YEARS FROM 2015 TO 2019\n",
        "\n",
        "tot_net_mig = ind_mig[\"net_per_10K_2015\"] + ind_mig[\"net_per_10K_2016\"] + ind_mig[\"net_per_10K_2017\"] + ind_mig[\"net_per_10K_2018\"] + ind_mig[\"net_per_10K_2019\"]\n",
        "ind_mig[\"tot_net_10K\"] = tot_net_mig\n",
        "\n",
        "#ind_mig.head(10)\n",
        "##\n",
        "##  LOOP THRU data frame\n",
        "##\n",
        "#print(\"The total net migration into \", ind_mig[\"country_name\"], \"of skilled workers for the\", ind_mig[\"industry_name\"], \"industry, during the years 2015-2019 was\", ind_mig[\"tot_net_10K\"] )"
      ],
      "execution_count": null,
      "outputs": []
    },
    {
      "cell_type": "markdown",
      "metadata": {
        "id": "AGqV7ySKKadV"
      },
      "source": [
        "### Exercise 10 - five text responses\n",
        "\n",
        "Using the Industry Migration data sheet, calculate net migration (rounded to 1 decimal place) over the 5 years from 2015 to 2019 for the records at positions 1 to 5 and print the following message for each, adding the data where indicated:\n",
        "\n",
        "The total net migration into `country` of skilled workers for the `industry name` industry, during the years 2015-2019 was `total_net_migration`\n",
        "\n",
        "*Hint: use a for loop to get a record and do each calculation*"
      ]
    },
    {
      "cell_type": "code",
      "metadata": {
        "id": "f2ZMvHXTLRm1"
      },
      "source": [
        "import pandas as pd \n",
        "url =\"https://github.com/futureCodersSE/working-with-data/blob/main/Data%20sets/public_use-talent-migration.xlsx?raw=true\"\n",
        "ind_mig = pd.read_excel(url,sheet_name=\"Industry Migration\")\n",
        "#tot_net_mig = ind_mig[\"net_per_10K_2015\"] + ind_mig[\"net_per_10K_2016\"] + ind_mig[\"net_per_10K_2017\"] + ind_mig[\"net_per_10K_2018\"] + ind_mig[\"net_per_10K_2019\"]\n",
        "#ind_mig[\"tot_net_10K\"] = tot_net_mig\n",
        "ind_mig.loc[0:5]\n"
      ],
      "execution_count": null,
      "outputs": []
    },
    {
      "cell_type": "code",
      "metadata": {
        "colab": {
          "base_uri": "https://localhost:8080/"
        },
        "id": "KyYpiphRNfE5",
        "outputId": "5e90cf7e-c4c1-4d29-c04c-4dadf11f06f5"
      },
      "source": [
        "tot_net_mig = 0\n",
        "for i in range(5):\n",
        "   \n",
        "   tot_net_mig = ind_mig.loc[i, \"net_per_10K_2015\"] + ind_mig.loc[i, \"net_per_10K_2016\"] + ind_mig.loc[i, \"net_per_10K_2017\"] + ind_mig.loc[i, \"net_per_10K_2018\"] + ind_mig.loc[i, \"net_per_10K_2019\"]\n",
        "   tot_net_mig = round(tot_net_mig,1)\n",
        "   print(\"The total net migration into\", ind_mig.loc[i,'country_name'], \"of skilled workers for the \", ind_mig.loc[i, 'industry_name'], \"industry, during the years 2015-2019 was\", tot_net_mig)\n",
        "   tot_net_mig = 0"
      ],
      "execution_count": 48,
      "outputs": [
        {
          "output_type": "stream",
          "text": [
            "The total net migration into United Arab Emirates of skilled workers for the  Defense & Space industry, during the years 2015-2019 was 632.9\n",
            "The total net migration into United Arab Emirates of skilled workers for the  Computer Hardware industry, during the years 2015-2019 was 903.9\n",
            "The total net migration into United Arab Emirates of skilled workers for the  Computer Software industry, during the years 2015-2019 was 3340.6\n",
            "The total net migration into United Arab Emirates of skilled workers for the  Computer Networking industry, during the years 2015-2019 was 1437.6\n",
            "The total net migration into United Arab Emirates of skilled workers for the  Internet industry, during the years 2015-2019 was 5458.2\n"
          ],
          "name": "stdout"
        }
      ]
    }
  ]
}