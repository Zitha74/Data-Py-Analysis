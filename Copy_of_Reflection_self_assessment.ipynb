{
  "nbformat": 4,
  "nbformat_minor": 0,
  "metadata": {
    "colab": {
      "name": "Copy of Reflection-self-assessment.ipynb",
      "provenance": [],
      "collapsed_sections": [],
      "include_colab_link": true
    },
    "kernelspec": {
      "name": "python3",
      "display_name": "Python 3"
    },
    "language_info": {
      "name": "python"
    }
  },
  "cells": [
    {
      "cell_type": "markdown",
      "metadata": {
        "id": "view-in-github",
        "colab_type": "text"
      },
      "source": [
        "<a href=\"https://colab.research.google.com/github/Zitha74/Data-Py-Analysis/blob/main/Copy_of_Reflection_self_assessment.ipynb\" target=\"_parent\"><img src=\"https://colab.research.google.com/assets/colab-badge.svg\" alt=\"Open In Colab\"/></a>"
      ]
    },
    {
      "cell_type": "markdown",
      "metadata": {
        "id": "rZjqhF0NXKBW"
      },
      "source": [
        "# Reflection and self-assessment\n",
        "\n",
        "---\n"
      ]
    },
    {
      "cell_type": "markdown",
      "metadata": {
        "id": "60dyofsmXPGL"
      },
      "source": [
        "\n",
        "## Self-assessment - Python programming\n",
        "\n",
        "### You are going to assess your progress in the programming part of this module, using a ranking system, then you are going to write a set of functions that will allow you to demonstrate your skills, knowledge and understanding.\n",
        "\n",
        "Reflect on your programming so far in this course.  For each of the criteria below, rank yourself from 1 to 10 using the information below to guide you.  Use the numbers between 1 and 5 and between 5 and 10 to indicate which you are closer to.   \n",
        "\n",
        "10 = totally confident that you can do this  \n",
        "5  = starting to feel confident  \n",
        "1  = not confident at all  \n",
        "\n",
        "---\n",
        "\n",
        "1.  Use basic programming concepts and notebooks independently to produce simple coded solutions.\n",
        "\n",
        "2.  Code and document inputs, outputs and processes within simple Python programs\n",
        "\n",
        "3.  Use variables of a range of types within working Python code\n",
        "\n",
        "4.  Explain coded solutions clearly through well-placed comments\n",
        "\n",
        "5.  Develop Python coded solutions which process lists of data\n",
        "\n",
        "6.  Use meaningful data and function names\n",
        "\n",
        "7.  Select and use if statements correctly for given problems\n",
        "\n",
        "8.  Select and use appropriate loops correctly for given problems\n",
        "\n",
        "9.  Demonstrate clear understanding of selection and repetition by using them appropriately in combination\n",
        "\n",
        "10.  Identify and use in-built and imported library functions\n",
        "\n",
        "11.  Develop and test the output of user-defined functions\n",
        "\n",
        "12.  Demonstrate clear understanding of external functions and custom functions and choose or write them appropriately\n",
        "\n",
        "13.  Use Google Colabs and Github together to regularly store copies of code notebooks\n",
        "\n",
        "14.  Produce code that is free from obvious errors\n",
        "\n",
        "15.  Write neat and readable code (blank lines for spacing, indentation, relevant function naming, relevant variable naming.\n",
        "\n",
        "16.  Use basic technical language to explain coded solutions\n",
        "\n",
        "17.  Identify obvious errors and look for opportunities to make code faster, more robust or more secure.\n",
        "\n",
        "\n",
        "## Challenge problem\n",
        "\n",
        "1.  Create a list of the criteria.  Each of the criteria should be stored as a string in the list.   \n",
        "2.  Create a second list which contains your ranks as a list of numbers.\n",
        "\n",
        "Give each list a relevant variable name.\n",
        "\n",
        "Determine the expected output and then write functions to find and display the following:\n",
        "*  average ranking\n",
        "*  the criteria with the highest ranking (there may be more than one)  \n",
        "*  the criteria with the lowest ranking (there may be more than one)\n",
        "*  the most common ranking level and all the criteria with that ranking\n",
        "*  the median ranking and the first criterion that has that ranking (the median should be found by sorting the ranking list from lowest to highest rank and finding the one in the middle.  The criterion will be the first one with that ranking in the original criteria list).\n",
        "\n",
        "Use text cells to explain what each function does and what the expected output is.  Use a code cell for each function.\n"
      ]
    },
    {
      "cell_type": "code",
      "metadata": {
        "id": "im660yKGXJJN",
        "colab": {
          "base_uri": "https://localhost:8080/"
        },
        "outputId": "e41d2cef-332f-4a0a-8736-55127e11db18"
      },
      "source": [
        "#\n",
        "# Rankings = = [9,10,10,8,7,10,10,10,9,9,8,8,10,10,10,7,9]\n",
        "#\n",
        "\n",
        "criteria = [\"Programming\",\"Simple Py Programs\",\"Variables Types\",\n",
        "            \"Commenting\",\n",
        "            \"Process Lists of Data\",\n",
        "            \"Function Names\",\n",
        "            \"IF Statements\",\n",
        "            \"Loops\",\"Selection and Repetition\",\n",
        "            \"Library Functions\",\"User Defined Functions\",\n",
        "            \"External & Custome Functions\",\n",
        "            \"Colab & GitHub\",\"Error Free Code\",\n",
        "            \"Code Variable, Function Names - Indentation etc\",\n",
        "            \"Tech Lang Explain Coded Solutions\",\n",
        "            \"Code Optimization\" ]\n",
        "rankings = [9,10,10,8,7,10,10,10,9,9,8,8,10,10,10,7,9]\n",
        "len(rankings)\n",
        "len(criteria)\n",
        "\n",
        "def average_ranking():\n",
        "    #  sum up in a separate Variable all rankings from the rankings list and divide by len(rankings)\n",
        "\n",
        "def highest_ranking_criteria():\n",
        "    # \n",
        "    \n",
        "def lowest_ranking_creteria():\n",
        "    # \n",
        "\n",
        "def most_common():\n",
        "    # \n"
      ],
      "execution_count": null,
      "outputs": [
        {
          "output_type": "execute_result",
          "data": {
            "text/plain": [
              "17"
            ]
          },
          "metadata": {
            "tags": []
          },
          "execution_count": 1
        }
      ]
    },
    {
      "cell_type": "code",
      "metadata": {
        "id": "LfduI70Ee1VF"
      },
      "source": [
        ""
      ],
      "execution_count": null,
      "outputs": []
    }
  ]
}