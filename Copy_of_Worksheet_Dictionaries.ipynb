{
  "nbformat": 4,
  "nbformat_minor": 0,
  "metadata": {
    "colab": {
      "name": "Copy of Worksheet - Dictionaries.ipynb",
      "provenance": [],
      "collapsed_sections": [],
      "include_colab_link": true
    },
    "kernelspec": {
      "name": "python3",
      "display_name": "Python 3"
    },
    "language_info": {
      "name": "python"
    }
  },
  "cells": [
    {
      "cell_type": "markdown",
      "metadata": {
        "id": "view-in-github",
        "colab_type": "text"
      },
      "source": [
        "<a href=\"https://colab.research.google.com/github/Zitha74/Data-Py-Analysis/blob/main/Copy_of_Worksheet_Dictionaries.ipynb\" target=\"_parent\"><img src=\"https://colab.research.google.com/assets/colab-badge.svg\" alt=\"Open In Colab\"/></a>"
      ]
    },
    {
      "cell_type": "markdown",
      "metadata": {
        "id": "AiiF1h2X4PHP"
      },
      "source": [
        "# Dictionaries\n",
        "\n",
        "---\n",
        "\n",
        "A **dictionary** is a collection of dissimilar data stored together in one *record*. Each item of data has a  (or key) that describes its paired value.  \n",
        "\n",
        "Create a dictionary object by declaring the set of keys and values, e.g.:\n",
        "\n",
        "```\n",
        "   transport = {\n",
        "       \"type\":\"bus\",\n",
        "       \"numPassengers\":72,\n",
        "       \"colour\":\"blue\",\n",
        "       \"fuel\":\"diesel\"\n",
        "   }\n",
        "```\n",
        "\n",
        "To access a value in a dictionary, use its key:  \n",
        "\n",
        "```\n",
        "transport[\"type\"] = \"coach\"\n",
        "transport_type = transport[\"type\"]\n",
        "transport_colour = transport[\"colour\"]\n",
        "transport[\"fuel\"] = petrol\n",
        "```\n",
        "\n",
        "To add a new key/value pair to a dictionary, simply assign a value to a new key:  \n",
        "```\n",
        "transport[\"seats\"] = 54\n",
        "```\n",
        "\n",
        "The transport dictionary will now look like this:  \n",
        "```\n",
        "   transport = {\n",
        "       \"type\":\"bus\",\n",
        "       \"numPassengers\":72,\n",
        "       \"colour\":\"blue\",\n",
        "       \"fuel\":\"diesel\",\n",
        "       \"seats\":54\n",
        "   }\n",
        "```\n",
        "\n"
      ]
    },
    {
      "cell_type": "markdown",
      "metadata": {
        "id": "1uZ5kNWB6CqK"
      },
      "source": [
        "---\n",
        "### Exercise 1 - print dictionary\n",
        "\n",
        "Write a function which will:  \n",
        "\n",
        "*  create an empty dictionary for a person (name, age and postcode, with values \"\", 0 and \"\")\n",
        "*  ask the user for name, age and postcode and assign the values to the correct keys in the dictionary  \n",
        "*  print the dictionary\n",
        "\n",
        "Test input:  \n",
        "Jack Jones  \n",
        "16  \n",
        "AB5 3DF  \n",
        "\n",
        "Expected output:  \n",
        "[\"name\":\"Jack Jones\", \"age\":16, \"postcode\":\"AB5 3DF\"]"
      ]
    },
    {
      "cell_type": "code",
      "metadata": {
        "id": "Ac7VQTj94Mrc",
        "colab": {
          "base_uri": "https://localhost:8080/"
        },
        "outputId": "a521d747-0ef6-4d0d-c5dc-1a667bcae39a"
      },
      "source": [
        "def create_dict():\n",
        "    person = {\n",
        "        'name': \"\",\n",
        "        'age': 0,\n",
        "        'postcode': \"\"\n",
        "        }\n",
        "    var_name = input(\"Enter your name :\")\n",
        "    var_age = input(\"Enter your age :\")\n",
        "    var_postcode = input(\"Enter your postcode :\")\n",
        "    person.update({'name': var_name})\n",
        "    person.update({'age': var_age})\n",
        "    person.update({'postcode': var_postcode})\n",
        "    print(person)\n",
        "\n",
        "create_dict()\n"
      ],
      "execution_count": null,
      "outputs": [
        {
          "output_type": "stream",
          "text": [
            "Enter your name :Jack\n",
            "Enter your age :32\n",
            "Enter your postcode :AB5 3DF\n",
            "{'name': 'Jack', 'age': '32', 'postcode': 'AB5 3DF'}\n"
          ],
          "name": "stdout"
        }
      ]
    },
    {
      "cell_type": "markdown",
      "metadata": {
        "id": "0OtNqNKv7WKm"
      },
      "source": [
        "---\n",
        "### Exercise 2 - create a dictionary\n",
        "\n",
        "Write a function that will create two dictionaries,without values:  \n",
        "\n",
        "1.  person (with keys firstname, surname, birthdate, postcode)  \n",
        "2.  car (with key/value pairs as follows:  make - Vauxhall, model - Corsa, engineSize - 1199, fuelType - unleaded, num_doors - 4)  \n",
        "\n",
        "*   ask the user to enter the values for the person dictionary  \n",
        "*   print, on one line, the person's name from the person dictionary and the make of the car from the car dictionary.\n",
        "\n",
        "Test input:  \n",
        "Jack  \n",
        "Jones  \n",
        "2005/02/02    \n",
        "AB5 3DF  \n",
        "\n",
        "Expected output:  \n",
        "Jack Jones Vauxhall"
      ]
    },
    {
      "cell_type": "code",
      "metadata": {
        "id": "ZyqhaBCC-GdI",
        "colab": {
          "base_uri": "https://localhost:8080/"
        },
        "outputId": "5278c037-34b5-4c5d-b137-4818a7d5c5b2"
      },
      "source": [
        "def create_dicts():\n",
        "    person = {\n",
        "        'firstname': \"\",\n",
        "        'surname': \"\",\n",
        "        'birthdate': \"\",\n",
        "        'postcode': \"\"\n",
        "    }\n",
        "    car = {\n",
        "        'make': \"Vauxhall\",\n",
        "        'model': \"corsa\",\n",
        "        'engineSize': 1199,\n",
        "        'fuelType': \"unleaded\",\n",
        "        'num_doors': 4\n",
        "    }\n",
        "    var_name = input(\"Enter your name :\")\n",
        "    var_surname = input(\"Enter your Surname :\")\n",
        "    var_birthdate = input(\"Enter your Date of Birth :\")\n",
        "    var_postcode = input(\"Enter your postcode :\")\n",
        "    person.update({'firstname': var_name})\n",
        "    person.update({'surname': var_surname})\n",
        "    person.update({'birthdate': var_birthdate})\n",
        "    person.update({'postcode': var_postcode})\n",
        "\n",
        "    print(person['firstname'],person['surname'],car['make'])\n",
        "\n",
        "create_dicts()"
      ],
      "execution_count": null,
      "outputs": [
        {
          "output_type": "stream",
          "text": [
            "Enter your name :Jack\n",
            "Enter your Surname :Jones\n",
            "Enter your Date of Birth :2005/02/02\n",
            "Enter your postcode :AB5 3DF\n",
            "Jack Jones Vauxhall\n"
          ],
          "name": "stdout"
        }
      ]
    },
    {
      "cell_type": "markdown",
      "metadata": {
        "id": "gYuuOUYw-G4I"
      },
      "source": [
        "---\n",
        "### Exercise 3 - check dictionary values\n",
        "\n",
        "Write a new function which will:\n",
        "\n",
        "*  set up the same two dictionaries as in Exercise 2  \n",
        "*  ask the user to enter the details to complete the person record  \n",
        "*  calculate the person's age  \n",
        "*  if the person is under 17 then print a message to say that they can't buy a car as they are too young to drive\n",
        "*  else if the person is under 25 then print a message to say that an engine size under 1200 is recommended  \n",
        "*  ask the user to enter the make of car that the person is looking for  \n",
        "*  if the user enters the same make as that stored in the car record, then print a message to say that you have one car of that make in stock and print all the details of the car that you have the record for\n",
        "*  else (if the user enters any other car make) then print a message to say sorry that you don't have any cars of that make in stock\n",
        "*  print a message to say that the user can get more details for stockist in the <user's postcode> area if they call 01234567890\n",
        "*  print a message to say \"Thank you <user's name> for using our site\"  \n",
        "\n",
        "Test input:  \n",
        "Jack  \n",
        "Jones  \n",
        "2005/02/02  \n",
        "AB5 3DF  \n",
        "Vauxhall  \n",
        "\n",
        "Expected output:  \n",
        "You are too young to drive\n",
        "\n",
        "Test input:  \n",
        "John  \n",
        "Jones  \n",
        "2003/02/02  \n",
        "AB5 3DF  \n",
        "Vauxhall \n",
        "\n",
        "Expected output:  \n",
        "An engine size under 1200 is recommended  \n",
        "We have one Vauxhall in stock, details:  \n",
        "Make - Vauxhall    \n",
        "Model - Corsa    \n",
        "Engine size - 1199  \n",
        "Fuel type - unleaded   \n",
        "Number of doors - 4  \n",
        "You can get more details of stockists near AB5 3DF on 01234567890  \n",
        "Thank you John Jones for using our site.     \n",
        "\n",
        "Test input:  \n",
        "John  \n",
        "Jones  \n",
        "2003/02/02  \n",
        "AB5 3DF  \n",
        "Ford  \n",
        "\n",
        "Expected output:  \n",
        "An engine size under 1200 is recommended  \n",
        "Sorry, we don't have any of that make in stock  \n"
      ]
    },
    {
      "cell_type": "code",
      "metadata": {
        "id": "fZgA34w1NscF"
      },
      "source": [
        "from datetime import datetime, timedelta\n",
        "def vehicle_check():\n",
        "    from datetime import date, datetime, timedelta\n",
        "    person = {\n",
        "        'firstname': \"\",\n",
        "        'surname': \"\",\n",
        "        'birthdate': \"\",\n",
        "        'postcode': \"\"\n",
        "    }\n",
        "    car = {\n",
        "        'make': \"Vauxhall\",\n",
        "        'model': \"corsa\",\n",
        "        'engineSize': 1199,\n",
        "        'fuelType': \"unleaded\",\n",
        "        'num_doors': 4\n",
        "    }\n",
        "    var_name = input(\"Enter your name :\")\n",
        "    var_surname = input(\"Enter your Surname :\")\n",
        "    var_birthdate = input(\"Enter your Date of Birth in the form :\")\n",
        "    var_postcode = input(\"Enter your postcode :\")\n",
        "    person.update({'firstname': var_name})\n",
        "    person.update({'surname': var_surname})\n",
        "    person.update({'birthdate': var_birthdate})\n",
        "    person.update({'postcode': var_postcode})\n",
        "\n",
        "### !!!!! REVISIT THIS PART OF CODE - STUCK HERE\n",
        "# convert str birthdate to acceptable date format 9999, 99, 99 then subtract from Current date\n",
        "# to determine the age , have to be carefue with preceding 0 in  month and day \n",
        "\n",
        "    var_yer = person['birthdate'][:4]\n",
        "    var_mth = person['birthdate'][5:7]\n",
        "    var_dd =  person['birthdate'][9:10]\n",
        "    var_yer1 = int(var_yer)\n",
        "    var_mth1 = int(var_mth)\n",
        "    var_dd1  = int(var_dd)\n",
        "\n",
        "    var_birthdate = datetime.datetime.date(var_yer1, var_mth1, var_dd1)\n",
        "#    calc_date = date(var_birthdate)\n",
        "    print(var_birthdate)\n",
        "    tday_date = date.today()\n",
        "    delta_age = tday_date - var_birthdate\n",
        "    cust_age = delta_age // 365\n",
        "# !!!!! REVISIT THIS  PART OF CODE   STUCK HERE   \n",
        "\n",
        "    if cust_age  < 17:\n",
        "        print(\"Sorry You are too young to drive \")\n",
        "    elif cust_age < 25:\n",
        "        print(\"An Engine size under 1200 is recommended\")\n",
        "        car_choice = input(\"Enter the make of the Car you are interested in  : \")\n",
        "        if car_choice == car['make']:\n",
        "           print(\"We have one\",car['make'],\"in stock, details:\")\n",
        "           print(\"Make - \",car['make'])\n",
        "           print(\"Model - \",car['model'])\n",
        "           print(\"EngineSizel - \",car['engineSize'])\n",
        "           print(\"Fuel Type - \",car['fueltype'])\n",
        "           print(\"Number of Doors - \",car['num_doors'])\n",
        "           print(\"You can get more details of strockits near\",person['postcode'],\"on 01315234567\")\n",
        "           print(\"Thank you\",person['firstname'],person[surname],\" for using our site\")\n",
        "        else:\n",
        "           print(\"Sorry we don\\'t have any of that in stock\")\n",
        "\n",
        "vehicle_check()\n"
      ],
      "execution_count": null,
      "outputs": []
    },
    {
      "cell_type": "code",
      "metadata": {
        "id": "Wp9Il2JG_hDh"
      },
      "source": [
        ""
      ],
      "execution_count": null,
      "outputs": []
    },
    {
      "cell_type": "markdown",
      "metadata": {
        "id": "I6dUiRwn7Gkg"
      },
      "source": [
        "---\n",
        "### Exercise 4 - print keys and values\n",
        "\n",
        "Two dictionaries have been created below.  You can print a list of the dictionary's keys using dictionary_name.keys() and the values using dictionary_name.values()\n",
        "\n",
        "Write a function which will accept a dictionary as a parameter and will:  \n",
        "*  print the dictionary keys as a list  \n",
        "*  print the dictionary values as a list\n",
        "\n",
        "Expected Output\n",
        "\n",
        "['Andy', 'Angela']\n",
        "[25, 55]\n",
        "['Andy', 'Angela']\n",
        "[58, 72]  \n",
        "\n",
        "\n",
        "\n"
      ]
    },
    {
      "cell_type": "code",
      "metadata": {
        "id": "FApOckhJEsMs",
        "colab": {
          "base_uri": "https://localhost:8080/"
        },
        "outputId": "56dc0fed-40d2-479c-a52f-afc1ea9e44a8"
      },
      "source": [
        "def display_dictionary(scores):\n",
        "  #  add your code below this line\n",
        "    x_keys = scores.keys()\n",
        "    print(x_keys)\n",
        "    x_values = scores.values()\n",
        "    print(x_values)\n",
        "\n",
        "\n",
        "english_scores = {'Andy': 95, 'Angela': 53}\n",
        "maths_scores = {'Andy': 58, 'Angela': 72}\n",
        "display_dictionary(english_scores)\n",
        "display_dictionary(maths_scores)"
      ],
      "execution_count": null,
      "outputs": [
        {
          "output_type": "stream",
          "text": [
            "dict_keys(['Andy', 'Angela'])\n",
            "dict_values([95, 53])\n",
            "dict_keys(['Andy', 'Angela'])\n",
            "dict_values([58, 72])\n"
          ],
          "name": "stdout"
        }
      ]
    },
    {
      "cell_type": "markdown",
      "metadata": {
        "id": "segSpkmBFSJl"
      },
      "source": [
        "---\n",
        "### Exercise 5 - add field\n",
        "\n",
        "Write a function which will:\n",
        "\n",
        "*  create a new dictionary called science with values of 0 for both Angela and Andy\n",
        "*  update Andy's score for science to 73 and Angela's score to 73   \n",
        "*  create a new key/value pair by adding another learner to the science  dictionary (George has a score of 55)    \n",
        "*  print the science dictionary to check results  \n",
        "\n",
        "Expected Output\n",
        "\n",
        "{'Andy': 73, 'Angela': 73, 'George': 55}"
      ]
    },
    {
      "cell_type": "code",
      "metadata": {
        "id": "BL1JM-Z7Gttf",
        "colab": {
          "base_uri": "https://localhost:8080/"
        },
        "outputId": "2189a717-6a15-43e6-cddb-25ee56fa6d65"
      },
      "source": [
        "def add_to_dict():\n",
        "    science = {\n",
        "        'Angela': 0,\n",
        "        'Andy': 0\n",
        "    }\n",
        "\n",
        "    print(\"Science Dictionary B4 \", science)\n",
        "    science.update({'Angela': 73})\n",
        "    science.update({'Andy': 73})\n",
        "\n",
        "    print(\"Science Dictionary After Update \", science)\n",
        "\n",
        "    science['George']  = 55\n",
        "    \n",
        "    print(\"Science Dictionary After adding New Item\",science)\n",
        "add_to_dict()  "
      ],
      "execution_count": null,
      "outputs": [
        {
          "output_type": "stream",
          "text": [
            "Science Dictionary B4  {'Angela': 0, 'Andy': 0}\n",
            "Science Dictionary After Update  {'Angela': 73, 'Andy': 73}\n",
            "Science Dictionary After adding New Item {'Angela': 73, 'Andy': 73, 'George': 55}\n"
          ],
          "name": "stdout"
        }
      ]
    },
    {
      "cell_type": "markdown",
      "metadata": {
        "id": "_Vzv0zlHGt-C"
      },
      "source": [
        "---\n",
        "### Exercise 6 - loop through keys/value pairs\n",
        "\n",
        "Write a function which will use a *for* loop to print the each key/value pair in the science dictionary (recreate this dictionary in this function) \n",
        "\n",
        "*(Hint: you can iterate through the key/value pairs in the dictionary in the same way as you iterate through a loop (e.g. for record in dictionary) and print the record (which is the key) and its value)*\n",
        "\n",
        "Expected output:  \n",
        "\n",
        "Angela 72  \n",
        "Andy 72  \n",
        "George 55  "
      ]
    },
    {
      "cell_type": "code",
      "metadata": {
        "id": "JL40_-W-Hxnt",
        "colab": {
          "base_uri": "https://localhost:8080/"
        },
        "outputId": "273929ac-3a76-4568-8640-2bf078fb5cd8"
      },
      "source": [
        "def loop_thru_dict():\n",
        "\n",
        "    science_scores = {\n",
        "        'Angela': 72,\n",
        "        'Andy': 72,\n",
        "        'George': 55\n",
        "    }\n",
        "\n",
        "    for names in science_scores.keys():\n",
        "        print(\"Dictionary Names and Values \", names)\n",
        "    \n",
        "    for scores in science_scores.values():\n",
        "        print(\"Dictionary Values and Names \", scores)\n",
        "\n",
        "    for names, scores in science_scores.items():\n",
        "        print(\"Science Dictionary Names and Values \",names, scores)\n",
        "\n",
        "loop_thru_dict()"
      ],
      "execution_count": null,
      "outputs": [
        {
          "output_type": "stream",
          "text": [
            "Dictionary Names and Values  Angela\n",
            "Dictionary Names and Values  Andy\n",
            "Dictionary Names and Values  George\n",
            "Dictionary Values and Names  72\n",
            "Dictionary Values and Names  72\n",
            "Dictionary Values and Names  55\n",
            "Science Dictionary Names and Values  Angela 72\n",
            "Science Dictionary Names and Values  Andy 72\n",
            "Science Dictionary Names and Values  George 55\n"
          ],
          "name": "stdout"
        }
      ]
    },
    {
      "cell_type": "markdown",
      "metadata": {
        "id": "G9wamxzRJdrE"
      },
      "source": [
        "---\n",
        "### Exercise 7 - generate new dictionary  \n",
        "\n",
        "Write a functions which will:\n",
        "*  create a new dictionary where the keys are numbers between 1 and 15 (both included) and the values are square of keys\n",
        "*  print the dictionary\n",
        "\n",
        "Expected output:  \n",
        "{1: 1, 2: 4, 3: 9, 4: 16, 5: 25, 6: 36, 7: 49, 8: 64, 9: 81, 10: 100, 11: 121, 12: 144, 13: 169, 14: 196, 15: 225}"
      ]
    },
    {
      "cell_type": "code",
      "metadata": {
        "id": "1-LI-LVrJ--N",
        "colab": {
          "base_uri": "https://localhost:8080/"
        },
        "outputId": "56deb287-2533-4123-a5fa-6ebdd335c3e0"
      },
      "source": [
        "def gen_num_dict():\n",
        "    num_sqrd = {}\n",
        "    for i in range(1,16):\n",
        "        num_sqrd[i] = i*i\n",
        "\n",
        "    print(num_sqrd)\n",
        "\n",
        "gen_num_dict()"
      ],
      "execution_count": null,
      "outputs": [
        {
          "output_type": "stream",
          "text": [
            "{1: 1, 2: 4, 3: 9, 4: 16, 5: 25, 6: 36, 7: 49, 8: 64, 9: 81, 10: 100, 11: 121, 12: 144, 13: 169, 14: 196, 15: 225}\n"
          ],
          "name": "stdout"
        }
      ]
    },
    {
      "cell_type": "markdown",
      "metadata": {
        "id": "t0y4mefwJ_jQ"
      },
      "source": [
        "---\n",
        "### Exercise 8 - colour dictionary  \n",
        "\n",
        "Write a function which will:  \n",
        "*  create a new dictionary record called colour_codes with the values 'red' - '#FF0000', 'green' - '#008000', 'black' - '#000000', 'white' - '#FFFFFF'\n",
        "*  add a new colour code:  'blue' - '#0000FF'    \n",
        "*  remove the colours black and white from the dictionary  \n",
        "\n",
        "*Hint:  there is a list of methods [here](https://www.w3schools.com/python/python_ref_dictionary.asp)*  "
      ]
    },
    {
      "cell_type": "code",
      "metadata": {
        "id": "yod1mUNOMeWg",
        "colab": {
          "base_uri": "https://localhost:8080/"
        },
        "outputId": "45ea710f-1282-49a6-aee2-5028228af994"
      },
      "source": [
        "def create_colour_table():\n",
        "    colour_codes = {\n",
        "        'red': '#FF0000',\n",
        "        'green': '#008000',\n",
        "        'black': '#000000',\n",
        "        'white': '#FFFFFF'\n",
        "    }\n",
        "\n",
        "    print(\"Original Colour Codes\",colour_codes)\n",
        "\n",
        "    colour_codes['blue'] = '#0000FF'\n",
        "\n",
        "    print(\"Colour Codes After Adding Blue \", colour_codes)\n",
        "\n",
        "    colour_codes.pop('black')\n",
        "    del colour_codes['white']\n",
        "\n",
        "    print(\"Colour Codes After removing black and white \", colour_codes)\n",
        "  \n",
        "\n",
        "create_colour_table()\n"
      ],
      "execution_count": null,
      "outputs": [
        {
          "output_type": "stream",
          "text": [
            "Original Colour Codes {'red': '#FF0000', 'green': '#008000', 'black': '#000000', 'white': '#FFFFFF'}\n",
            "Colour Codes After Adding Blue  {'red': '#FF0000', 'green': '#008000', 'black': '#000000', 'white': '#FFFFFF', 'blue': '#0000FF'}\n",
            "Colour Codes After removing black and white  {'red': '#FF0000', 'green': '#008000', 'blue': '#0000FF'}\n"
          ],
          "name": "stdout"
        }
      ]
    },
    {
      "cell_type": "markdown",
      "metadata": {
        "id": "gjos_0vuMeyS"
      },
      "source": [
        "---\n",
        "### Exercise 9 - item tuples  \n",
        "\n",
        "Write a function which will:  \n",
        "*  create a new dictionary containing the colour codes for red, green, blue, black and white\n",
        "*  print the key/value pairs of a dictionary as a list of tuples  \n",
        "\n",
        "*Hint:  iterate through colours.items()*"
      ]
    },
    {
      "cell_type": "code",
      "metadata": {
        "id": "EzuMkUypOKTY",
        "colab": {
          "base_uri": "https://localhost:8080/"
        },
        "outputId": "ac76fa93-18ff-43c2-a7ef-61dae82d69d9"
      },
      "source": [
        "def item_tuples():\n",
        "    colour_codes = {\n",
        "        'red': '#FF0000',\n",
        "        'green': '#008000',\n",
        "        'blue': '#0000FF',\n",
        "        'black': '#000000',\n",
        "        'white': '#FFFFFF'\n",
        "        }\n",
        "    for items in colour_codes.items():\n",
        "      print(items)\n",
        "item_tuples()"
      ],
      "execution_count": 3,
      "outputs": [
        {
          "output_type": "stream",
          "text": [
            "('red', '#FF0000')\n",
            "('green', '#008000')\n",
            "('blue', '#0000FF')\n",
            "('black', '#000000')\n",
            "('white', '#FFFFFF')\n"
          ],
          "name": "stdout"
        }
      ]
    },
    {
      "cell_type": "markdown",
      "metadata": {
        "id": "Jw1ot10cOc6r"
      },
      "source": [
        "---\n",
        "### Exercise 10 - check if empty\n",
        "Taken from w3resouce.com  \n",
        "\n",
        "Write a function which will check if a dictionary is empty or not\n",
        "\n",
        "*Hint:  you can use bool(dictionary_name), if the dictionary is empty then bool(dictionary_name will be false)*\n",
        "\n",
        "Test 1 sample data:\n",
        "{}\n",
        "\n",
        "Expected output:\n",
        "Dictionary is empty  \n",
        "\n",
        "Test 2 sample data:  \n",
        "{\"name\":\"Groucho\", \"occupation\":\"comedian\"}\n",
        "\n",
        "Expected output:  \n",
        "Dictionary is not empty"
      ]
    },
    {
      "cell_type": "code",
      "metadata": {
        "id": "7UdM1TfwRqnt",
        "colab": {
          "base_uri": "https://localhost:8080/"
        },
        "outputId": "0b38122a-3e10-4067-c9e6-1cb342c43622"
      },
      "source": [
        "def check_dict_empty(temp_table):\n",
        "    empty_table = True\n",
        "    if len(temp_table) > 0:\n",
        "        empty_table = False\n",
        "    return empty_table\n",
        "\n",
        "#test_table ={}\n",
        "test_table = {\"name\":\"Groucho\", \"occupation\":\"comedian\"}\n",
        "\n",
        "if check_dict_empty(test_table) == 1:\n",
        "   print(\"Dictionary is Empty\")\n",
        "else:\n",
        "   print(\"Dictionary is not Empty\")\n",
        "\n",
        "\n"
      ],
      "execution_count": null,
      "outputs": [
        {
          "output_type": "stream",
          "text": [
            "Dictionary is not Empty\n"
          ],
          "name": "stdout"
        }
      ]
    }
  ]
}