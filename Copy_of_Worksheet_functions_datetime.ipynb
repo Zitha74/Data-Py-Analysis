{
  "nbformat": 4,
  "nbformat_minor": 0,
  "metadata": {
    "colab": {
      "name": "Copy of Worksheet-functions-datetime.ipynb",
      "provenance": [],
      "collapsed_sections": [],
      "include_colab_link": true
    },
    "kernelspec": {
      "name": "python3",
      "display_name": "Python 3"
    },
    "language_info": {
      "name": "python"
    }
  },
  "cells": [
    {
      "cell_type": "markdown",
      "metadata": {
        "id": "view-in-github",
        "colab_type": "text"
      },
      "source": [
        "<a href=\"https://colab.research.google.com/github/Zitha74/Data-Py-Analysis/blob/main/Copy_of_Worksheet_functions_datetime.ipynb\" target=\"_parent\"><img src=\"https://colab.research.google.com/assets/colab-badge.svg\" alt=\"Open In Colab\"/></a>"
      ]
    },
    {
      "cell_type": "markdown",
      "metadata": {
        "id": "7iQyKP-SQiw1"
      },
      "source": [
        "# User-defined functions using datetime library\n",
        "\n",
        "---\n"
      ]
    },
    {
      "cell_type": "markdown",
      "metadata": {
        "id": "Vi93h5I4QnKs"
      },
      "source": [
        "When working with dates and times, fairly common in data sets, we need to be able to extract certain bits of information.  \n",
        "\n",
        "In Python, as with other languages, dates and times are stored in a data structure that combines the two together and stores the information as a number of seconds since a start point (often 1st January 1900).  This is obviously a large number but every bit of information about a date can be extracted from it and used to give a wide range of information.  \n",
        "\n",
        "Have a go at the exercises below to use a selection of datetime functions and return a new bit of data from each, to be printed by the caller.\n",
        "\n",
        "Before you can use datetime functions you will need to import them. Import the datetime functions like this:\n",
        "\n",
        "`from datetime import datetime`  \n",
        "\n",
        "\n",
        "For more information about datetime functions visit [w3Schools-Python datetime](https://www.w3schools.com/python/python_datetime.asp) and [Python docs](https://docs.python.org/3/library/datetime.html)"
      ]
    },
    {
      "cell_type": "markdown",
      "metadata": {
        "id": "MIDLi7CNR034"
      },
      "source": [
        "---\n",
        "### Exercise 1 - print current date and time\n",
        "\n",
        "Write a function that will return the date and time now.  The caller will print it.  \n",
        "\n",
        "*Hint:  the format has been added for you, the other exercises will follow a similar format.   Always remember to import datetime from datetime as shown below*"
      ]
    },
    {
      "cell_type": "code",
      "metadata": {
        "id": "gS6GJdXbQfHp",
        "colab": {
          "base_uri": "https://localhost:8080/"
        },
        "outputId": "d1282249-6c97-4d39-e82e-8242e435a537"
      },
      "source": [
        "from datetime import datetime\n",
        "# add your function, called get_datetime_now() below here\n",
        "def get_datetime_now():\n",
        "\n",
        "    tday = datetime.today()\n",
        "    return tday\n",
        "\n",
        "now_date_time = get_datetime_now()\n",
        "print(now_date_time)"
      ],
      "execution_count": null,
      "outputs": [
        {
          "output_type": "stream",
          "text": [
            "2021-04-19 12:26:19.037362\n"
          ],
          "name": "stdout"
        }
      ]
    },
    {
      "cell_type": "markdown",
      "metadata": {
        "id": "Yy24sL0bUtpF"
      },
      "source": [
        "---\n",
        "Exercise 2 - print the current year\n",
        "\n",
        "Write a function that will return the current year.  The caller will print the year."
      ]
    },
    {
      "cell_type": "code",
      "metadata": {
        "id": "YqlQqPIqUtyr",
        "colab": {
          "base_uri": "https://localhost:8080/"
        },
        "outputId": "40692006-bb18-4e85-9808-214d80dbd7b8"
      },
      "source": [
        "def curr_year():\n",
        "  tday = datetime.today()\n",
        "  yer = tday.year\n",
        "  return yer\n",
        "current_year = curr_year()\n",
        "print(current_year)"
      ],
      "execution_count": null,
      "outputs": [
        {
          "output_type": "stream",
          "text": [
            "2021\n"
          ],
          "name": "stdout"
        }
      ]
    },
    {
      "cell_type": "markdown",
      "metadata": {
        "id": "FzSVCaJKV1O1"
      },
      "source": [
        "---\n",
        "### Exercise 3 - print the current day of the week\n",
        "\n",
        "Write a function that will return the current day of the week.  The caller will print it."
      ]
    },
    {
      "cell_type": "code",
      "metadata": {
        "id": "OP4ZIXBWV1Yj",
        "colab": {
          "base_uri": "https://localhost:8080/"
        },
        "outputId": "92a12d6a-947b-48db-eb29-627afa542f91"
      },
      "source": [
        "def day_of_the_week():\n",
        "    tday = datetime.today()\n",
        "    wk_day = tday.strftime(\"%A\")\n",
        "    return wk_day\n",
        "td_day = day_of_the_week()\n",
        "print(td_day)"
      ],
      "execution_count": null,
      "outputs": [
        {
          "output_type": "stream",
          "text": [
            "Monday\n"
          ],
          "name": "stdout"
        }
      ]
    },
    {
      "cell_type": "markdown",
      "metadata": {
        "id": "a8euCtdmWIDE"
      },
      "source": [
        "---\n",
        "### Exercise 4 - create a new date\n",
        "\n",
        "Write a function that will take 3 parameters, day, month, year (3 numbers that make a valid date) and will create, and return a new date.  The caller will print the date."
      ]
    },
    {
      "cell_type": "code",
      "metadata": {
        "id": "FbOFnTwnWILN",
        "colab": {
          "base_uri": "https://localhost:8080/"
        },
        "outputId": "a1201fb3-2592-4d0e-bf42-3464551fa7a3"
      },
      "source": [
        "def date_format(dday,dmon,dyer):\n",
        "    std_date = str(dday) + '-' + str(dmon) + '-' + str(dyer)\n",
        "    us_date = str(dyer) + '-' + str(dmon) + '-' + str(dday) \n",
        "    return std_date\n",
        "\n",
        "new_date = date_format(10,12,1977)\n",
        "print(new_date) \n"
      ],
      "execution_count": null,
      "outputs": [
        {
          "output_type": "stream",
          "text": [
            "10-12-1977\n"
          ],
          "name": "stdout"
        }
      ]
    },
    {
      "cell_type": "markdown",
      "metadata": {
        "id": "f5SKVuE0WfcE"
      },
      "source": [
        "---\n",
        "### Exercise 5 - create a valid date\n",
        "\n",
        "Write a function that will take 3 parameters, day, month, year (3 numbers) and will:  \n",
        "*   check that the month is between 1 and 12  \n",
        "*   check that the day is valid for the month (e.g. if the month is 2, then the day must be between 1 and 28 (don't worry about leap years for the moment)  \n",
        "*   if the date is not valid, print an error message and return None (which the caller will print)  \n",
        "*   if the date is valid, store it in a new variable, return the variable and the caller will print it."
      ]
    },
    {
      "cell_type": "code",
      "metadata": {
        "id": "gclt-f9-XfdG",
        "colab": {
          "base_uri": "https://localhost:8080/"
        },
        "outputId": "7d0d8b37-172f-4e56-e6ae-e19404ffc5f9"
      },
      "source": [
        "def valid_date(dd_day,dd_month,dd_year):\n",
        "    date_valid = False\n",
        "    if dd_month < 0  or  dd_month > 12:\n",
        "        if dd_month == 2:\n",
        "            if (dd_day >= 1 and dd_day <= 28):\n",
        "                date_valid = True\n",
        "            else:\n",
        "                data_valid = False\n",
        "                print(\"Invalid Number of days for the month of Feb\")\n",
        "        elif dd_month in (1,3,5,7,8,10,12):\n",
        "              if dd_day >=1 and dd_day <= 31:\n",
        "                  date_valid = True\n",
        "              else:\n",
        "                  date_valid = False\n",
        "                  print(\"Invalid Number of days for the Month\")\n",
        "        elif dd_month in (4,6,9,11):\n",
        "              if dd_day  >= 1 and dd_day <= 30:\n",
        "                date_valid = True\n",
        "              else:\n",
        "                date_valid = False\n",
        "                print(\"Invalid Number of Days for the Month Specified\")       \n",
        "    else:\n",
        "        print(\"Invalid Month \")\n",
        "        date_valid = False \n",
        "  \n",
        "    if date_valid:\n",
        "        new_date = str(dd_day) + \"-\" + str(dd_month) + \"-\" + str(dd_year)\n",
        "        return new_date\n",
        "\n",
        "check_date = valid_date(33,22,2019)\n",
        "print(check_date)"
      ],
      "execution_count": null,
      "outputs": [
        {
          "output_type": "stream",
          "text": [
            "Invalid Month \n",
            "None\n"
          ],
          "name": "stdout"
        }
      ]
    },
    {
      "cell_type": "markdown",
      "metadata": {
        "id": "js7fy2HWXfm2"
      },
      "source": [
        "---\n",
        "### Exercise 6 - is it a leap year?\n",
        "\n",
        "Write a function that will take a date as a parameter (you will need to create the date variable before calling the function) and will determine if it is a leap year, returning True or False.\n",
        "\n",
        "*Hint:  a leap year is a year that is divisible by 4 but the centuries (1900, 2000, etc are only leap years if they are divisible by 400)*"
      ]
    },
    {
      "cell_type": "code",
      "metadata": {
        "id": "KY1jtf3lX_ps",
        "colab": {
          "base_uri": "https://localhost:8080/"
        },
        "outputId": "e4bf97a8-ebe1-4672-a053-f2a59c21b646"
      },
      "source": [
        "from datetime import datetime\n",
        "def is_leap_year(date_to_check):\n",
        "  # add your code below here\n",
        "    leapyear = False\n",
        " #   date_check = datetime(date_to_check)\n",
        "    yer = date_to_check.year\n",
        "    print(yer)\n",
        "    centu_check = str(yer)\n",
        "    if centu_check[2:3] == \"00\":\n",
        "        # determine century leap year\n",
        "          if (yer / 400 == 00):\n",
        "            leapyear = True\n",
        "          else:\n",
        "            leapyear = False\n",
        "    elif (yer % 4 == 00):\n",
        "        leapyear = True\n",
        "    else:\n",
        "        leapyear = False\n",
        "\n",
        "    return leapyear\n",
        "    \n",
        "check_date = datetime(1900, 12, 15)\n",
        "if is_leap_year(check_date):\n",
        "  print(check_date.strftime(\"%Y\"), \"is a leap year\")\n",
        "else:\n",
        "  print(check_date.strftime(\"%Y\"), \"is not a leap year\")"
      ],
      "execution_count": null,
      "outputs": [
        {
          "output_type": "stream",
          "text": [
            "1900\n",
            "1900 is a leap year\n"
          ],
          "name": "stdout"
        }
      ]
    },
    {
      "cell_type": "markdown",
      "metadata": {
        "id": "9BuRDi08YAO0"
      },
      "source": [
        "---\n",
        "### Exercise 7 - display parts of date/time\n",
        "\n",
        "Write a function that will take a date and print from it the following:  \n",
        "*  given date and time  \n",
        "*  year (in full) \n",
        "*  month (as a number) \n",
        "*  month name \n",
        "*  week number of the year  \n",
        "*  weekday of the week (as a number)  \n",
        "*  day of year  \n",
        "*  day of the month  \n",
        "*  day of week (as a name)  \n",
        "\n",
        "*Hint:  see w3Schools for [strftime reference](https://www.w3schools.com/python/python_datetime.asp)*\n",
        "\n"
      ]
    },
    {
      "cell_type": "code",
      "metadata": {
        "id": "zl-37Ez9ahym",
        "colab": {
          "base_uri": "https://localhost:8080/"
        },
        "outputId": "431e0d50-678e-4afc-ed94-0f6550229883"
      },
      "source": [
        "from datetime import datetime\n",
        "def display_date_parts(check_date):\n",
        "\n",
        "    print(\"Year - \",check_date.year)\n",
        "    print(\"Day no of the Month - \",check_date.day)\n",
        "    print(\"Month number - \",check_date.month)\n",
        "    print(\"Week No of The Year - \",check_date.strftime('%W'))\n",
        "    print(\"Week Day No - \",check_date.strftime('%w'))\n",
        "    print(\"Day of the Week \",check_date.strftime('%A'))\n",
        "    print(\"Day of the week 3 Chars\",check_date.strftime('%a'))\n",
        "    print(\"Month Name - \",check_date.strftime('%B'))\n",
        "    print(\"Month Name 3 Chars\",check_date.strftime('%b'))\n",
        "    print(\"Month Number - \",check_date.strftime('%m'))\n",
        "    print(\"Given Date and Time - \",check_date.date(),check_date.time())\n",
        "\n",
        "check_date = datetime(1900, 12, 15, 23, 53, 27, 362109) \n",
        "display_date_parts(check_date)"
      ],
      "execution_count": 34,
      "outputs": [
        {
          "output_type": "stream",
          "text": [
            "Year -  1900\n",
            "Day no of the Month -  15\n",
            "Month number -  12\n",
            "Week No of The Year -  50\n",
            "Week Day No -  6\n",
            "Day of the Week  Saturday\n",
            "Day of the week 3 Chars Sat\n",
            "Month Name -  December\n",
            "Month Name 3 Chars Dec\n",
            "Month Number -  12\n",
            "Given Date and Time -  1900-12-15 23:53:27.362109\n"
          ],
          "name": "stdout"
        }
      ]
    },
    {
      "cell_type": "markdown",
      "metadata": {
        "id": "_rpTIoSDaiBj"
      },
      "source": [
        "---\n",
        "### Exercise 8 - next 6 days\n",
        "\n",
        "Write a function that will take a date and generate the dates of the following 6 days.  It should print each of the 6 days in the form:  \n",
        "\n",
        "DAY OF THE WEEK, MONTH NAME, FULL YEAR\n",
        "\n",
        "Hint:  to generate the days, use the function datetime.timedelta(), there is a good example of its use [here](https://www.geeksforgeeks.org/python-datetime-timedelta-function/)  "
      ]
    },
    {
      "cell_type": "code",
      "metadata": {
        "id": "1d-oXqLLb0vX",
        "colab": {
          "base_uri": "https://localhost:8080/"
        },
        "outputId": "de4f8548-a46b-4a91-c620-c6472a703328"
      },
      "source": [
        "from datetime import datetime, timedelta\n",
        "\n",
        "def generate_future_date(input_date):\n",
        "\n",
        "    print(\"Given Data and Time = \",input_date.date(),input_date.time())\n",
        "\n",
        "    for i in range(1,7,1):\n",
        "      f_date = input_date + timedelta(days = i)\n",
        "\n",
        "      print(i,\"Days after, Date will be \", f_date.strftime('%A'),\",\",f_date.strftime('%B'),\",\",f_date.year)\n",
        "\n",
        "\n",
        "input_date = datetime(1975,4,8,16,8,48,481681)\n",
        "generate_future_date(input_date)"
      ],
      "execution_count": 42,
      "outputs": [
        {
          "output_type": "stream",
          "text": [
            "Given Data and Time =  1975-04-08 16:08:48.481681\n",
            "1 Days after, Date will be  Wednesday , April , 1975\n",
            "2 Days after, Date will be  Thursday , April , 1975\n",
            "3 Days after, Date will be  Friday , April , 1975\n",
            "4 Days after, Date will be  Saturday , April , 1975\n",
            "5 Days after, Date will be  Sunday , April , 1975\n",
            "6 Days after, Date will be  Monday , April , 1975\n"
          ],
          "name": "stdout"
        }
      ]
    },
    {
      "cell_type": "markdown",
      "metadata": {
        "id": "22Rhwx2Sb1Ey"
      },
      "source": [
        "---\n",
        "### Optional extra practice\n",
        "\n",
        "There are some similar and some more challenging exercises [here](https://www.w3resource.com/python-exercises/date-time-exercise/) if you would like to practice more. The site has its own editor."
      ]
    }
  ]
}