{
  "nbformat": 4,
  "nbformat_minor": 0,
  "metadata": {
    "colab": {
      "name": "Copy of WhileLoops1.ipynb",
      "provenance": [],
      "collapsed_sections": [],
      "include_colab_link": true
    },
    "kernelspec": {
      "name": "python3",
      "display_name": "Python 3"
    }
  },
  "cells": [
    {
      "cell_type": "markdown",
      "metadata": {
        "id": "view-in-github",
        "colab_type": "text"
      },
      "source": [
        "<a href=\"https://colab.research.google.com/github/Zitha74/Data-Py-Analysis/blob/main/Copy_of_WhileLoops1.ipynb\" target=\"_parent\"><img src=\"https://colab.research.google.com/assets/colab-badge.svg\" alt=\"Open In Colab\"/></a>"
      ]
    },
    {
      "cell_type": "markdown",
      "metadata": {
        "id": "OWGIE_ptimyf"
      },
      "source": [
        "# While loops\n",
        "\n",
        "---\n"
      ]
    },
    {
      "cell_type": "markdown",
      "metadata": {
        "id": "Kjh4DVogizl5"
      },
      "source": [
        "There are many situations when an external event (such as an input from the user or finding an invalid data value) will be the thing that will cause the loop to stop.\n",
        "\n",
        "A while loop allows us to say \"repeat these instructions while something has not yet happened, or repeat these instruction while a particular state exists\"\n",
        "\n",
        "For example, we want to ask a user to enter some positive numbers to be added to a total. They will indicate that there are no more numbers by entering -1.\n",
        "\n"
      ]
    },
    {
      "cell_type": "code",
      "metadata": {
        "id": "HieVx4BrtJlU",
        "colab": {
          "base_uri": "https://localhost:8080/"
        },
        "outputId": "5e2fd1ca-015c-4953-e5a4-b363088ab2cd"
      },
      "source": [
        "# initialise a total to 0\n",
        "# read the first number\n",
        "# add the number to the total and keep reading next number and adding to total until -1 entered\n",
        "\n",
        "def running_total():\n",
        "    total = 0\n",
        "    num = int(input(\"Enter a number, or type -1 to stop\"))\n",
        "    while num != -1:\n",
        "        total = total + num\n",
        "        num = int(input(\"Enter a number, or type -1 to stop\"))\n",
        "    print(total)\n",
        "\n",
        "running_total()"
      ],
      "execution_count": null,
      "outputs": [
        {
          "output_type": "stream",
          "text": [
            "Enter a number, or type -1 to stop9\n",
            "Enter a number, or type -1 to stop6\n",
            "Enter a number, or type -1 to stop3\n",
            "Enter a number, or type -1 to stop5\n",
            "Enter a number, or type -1 to stop7\n",
            "Enter a number, or type -1 to stop9\n",
            "Enter a number, or type -1 to stop-1\n",
            "39\n"
          ],
          "name": "stdout"
        }
      ]
    },
    {
      "cell_type": "markdown",
      "metadata": {
        "id": "X8pROiEYtKbA"
      },
      "source": [
        "**Another example**\n",
        "\n",
        "We want to take a number from the user and keep dividing it by 2 until the answer is 1 or less, then to print the number of times it was divided. Try it out. If you enter 8 then the answer should be 3, if you enter 6 the answer will also be 3."
      ]
    },
    {
      "cell_type": "code",
      "metadata": {
        "id": "eL9nJORbtTUb",
        "colab": {
          "base_uri": "https://localhost:8080/"
        },
        "outputId": "28b2897a-a90d-4c49-9cc7-27dfbaa7a220"
      },
      "source": [
        "def div_by_two():\n",
        "  num = int(input(\"Enter a number to be processed\"))\n",
        "  number_times_divided = 0\n",
        "  while num > 1:\n",
        "    number_times_divided = number_times_divided + 1\n",
        "    num = num/2\n",
        "  print(\"Your number was divided\", number_times_divided, \"times\") \n",
        "   \n",
        "div_by_two()"
      ],
      "execution_count": null,
      "outputs": [
        {
          "output_type": "stream",
          "text": [
            "Enter a number to be processed88\n",
            "Your number was divided 7 times\n"
          ],
          "name": "stdout"
        }
      ]
    },
    {
      "cell_type": "markdown",
      "metadata": {
        "id": "jKqqk9LstW83"
      },
      "source": [
        "*Here are some more examples of use of while loops.*\n",
        "\n",
        "### Ensuring valid input  \n",
        "When reading from the keyboard it is important to ensure that the user only enters valid data. You can do this in a number of ways but a while loop can be used to make the user keep entering data until they enter something that is valid."
      ]
    },
    {
      "cell_type": "code",
      "metadata": {
        "id": "7_CoIBfluIUG",
        "colab": {
          "base_uri": "https://localhost:8080/"
        },
        "outputId": "a5f02fd4-5579-4601-dd80-c372ff69dfe1"
      },
      "source": [
        "# read a number from the user\n",
        "# check that the number is a positive integer.  If not, display error messages\n",
        "# keep reading until a positive integer is read\n",
        "\n",
        "def positive_num():\n",
        "  number = -1\n",
        "  while number < 0:\n",
        "    print(\"You must type a number above 0\")\n",
        "    number = int(input(\"Enter a positive number\"))\n",
        "  print(\"Thank you for typing the number\", number)\n",
        "\n",
        "positive_num()"
      ],
      "execution_count": null,
      "outputs": [
        {
          "output_type": "stream",
          "text": [
            "You must type a number above 0\n",
            "Enter a positive number-10\n",
            "You must type a number above 0\n",
            "Enter a positive number2\n",
            "Thank you for typing the number 2\n"
          ],
          "name": "stdout"
        }
      ]
    },
    {
      "cell_type": "markdown",
      "metadata": {
        "id": "YiO-WgJ8zzjp"
      },
      "source": [
        "### Take home points\n",
        "\n",
        "* An algorithm is the method for solving a particular problem (e.g. getting the right sort of number, selecting a message depending on input, calculating a new figure, etc)\n",
        "* A while loop will keep repeating while the given condition is TRUE\n",
        "* As soon as the condition becomes false the loop will stop executing\n",
        "* We use while loops when we don't necessarily know how many times a loop will need to repeat, but we do know under what conditions it does need to repeat."
      ]
    },
    {
      "cell_type": "markdown",
      "metadata": {
        "id": "4CS8CNrmQUbO"
      },
      "source": [
        "---\n",
        "### Exercise 1 - get a valid username\n",
        "\n",
        "Write a function called **get_username()** which will:  \n",
        "\n",
        "*  assign the value False to a boolean variable called **valid**  \n",
        "*  start a while loop that will continue to loop while `valid` is False  \n",
        "*  in the loop:  ask the user to enter a **username**,  if the `username` is \"user\" assign the value True to `valid`, otherwise print the message \"Incorrect user name\"   \n",
        "*  after the loop, display the message \"Welcome `username`, you will now be asked to enter your password  \n",
        "\n",
        "Test input:  \n",
        "username   \n",
        "user  \n",
        "\n",
        "Expected output:  \n",
        "Incorrect username  \n",
        "Welcome user you will now be asked to enter your password  "
      ]
    },
    {
      "cell_type": "code",
      "metadata": {
        "id": "nwq55T5eRv7_",
        "colab": {
          "base_uri": "https://localhost:8080/"
        },
        "outputId": "99d58d8c-9f1f-4b19-94a2-da82ef1e9f53"
      },
      "source": [
        "def get_username():\n",
        "    valid = False\n",
        "    while valid == False:\n",
        "      username = input(\"Enter User Name : \")\n",
        "      if username == \"user\":\n",
        "         valid = True\n",
        "      else:\n",
        "         print(\" Incorrect user name\")\n",
        "\n",
        "    print(\"Welcome\", username,\", you will now be asked to enter your password\")\n",
        "\n",
        "get_username()        "
      ],
      "execution_count": null,
      "outputs": [
        {
          "output_type": "stream",
          "text": [
            "Enter User Name : username\n",
            " Incorrect user name\n",
            "Enter User Name : userdx\n",
            " Incorrect user name\n",
            "Enter User Name : user\n",
            "Welcome user , you will now be asked to enter your password\n"
          ],
          "name": "stdout"
        }
      ]
    },
    {
      "cell_type": "markdown",
      "metadata": {
        "id": "FXN6-MtQRwb9"
      },
      "source": [
        "---\n",
        "### Exercise 2 - get a valid passcode  \n",
        "\n",
        "Write a function called **get_passcode()** which will:  \n",
        "\n",
        "*  assign the value False to a boolean variable called **valid**  \n",
        "*  start a while loop that will continue to loop while `valid` is False  \n",
        "*  in the loop:  ask the user to enter a **passcode**, if the `passcode` is \"9876\" assign the value True to `valid`, otherwise print the message \"Incorrect passcode\"  \n",
        "*  after the loop, display the message \"Passcode accepted\"    \n",
        "\n",
        "Test input:  \n",
        "1234   \n",
        "9876  \n",
        "\n",
        "Expected output:  \n",
        "Incorrect passcode  \n",
        "Passcode accepted  "
      ]
    },
    {
      "cell_type": "code",
      "metadata": {
        "id": "a0Z_ACOiSxsP",
        "colab": {
          "base_uri": "https://localhost:8080/"
        },
        "outputId": "74c83c6b-bba4-4fbf-e7dc-9f94ebcfa58e"
      },
      "source": [
        "def get_passcode():\n",
        "    valid = False\n",
        "    while valid == False:\n",
        "        passcode = input(\"Enter passcode : - \")\n",
        "        if passcode == \"9876\":\n",
        "           valid = True\n",
        "        else:\n",
        "           print(\"Incorrect Passcode\")\n",
        "    print(\"Passcode Accepted\")\n",
        "\n",
        "get_passcode()"
      ],
      "execution_count": null,
      "outputs": [
        {
          "output_type": "stream",
          "text": [
            "Enter passcode : - 1234\n",
            "Incorrect Passcode\n",
            "Enter passcode : - 9875\n",
            "Incorrect Passcode\n",
            "Enter passcode : - 9874\n",
            "Incorrect Passcode\n",
            "Enter passcode : - 9876\n",
            "Passcode Accepted\n"
          ],
          "name": "stdout"
        }
      ]
    },
    {
      "cell_type": "markdown",
      "metadata": {
        "id": "DMeDXd7TS0ar"
      },
      "source": [
        "---\n",
        "### Exercise 3 - single digit input  \n",
        "\n",
        "Write a function called **get_digit()** which will:  \n",
        "\n",
        "*  assign the value False to a boolean variable called **valid_digit**  \n",
        "*  use a while loop to repeatedly ask the user to enter a single digit until the value they enter is less than 10     \n",
        "*  in the loop:  ask the user to enter a **single_digit**, if the `single_digit` is less than 10 assign the value True to `valid`, otherwise print the message \"Not a digit\"  \n",
        "*  after the loop, display the message \"Single digit entered\"    \n",
        "\n",
        "Test input:  \n",
        "10   \n",
        "9  \n",
        "\n",
        "Expected output:  \n",
        "Not a digit  \n",
        "Single digit entered  "
      ]
    },
    {
      "cell_type": "code",
      "metadata": {
        "id": "4oGXPcmqTtVN",
        "colab": {
          "base_uri": "https://localhost:8080/"
        },
        "outputId": "e9076ef9-ee0a-43df-dc98-7e734e82c1be"
      },
      "source": [
        "def get_digit():\n",
        "    valid_digit = False\n",
        "    max_digit = 10\n",
        "    while valid_digit != True:\n",
        "        single_digit = int(input(\"Enter a single digit :- \"))\n",
        "        if single_digit < 10:    # NB inbalanced paranthesis catching me out\"!!!!!  \n",
        "            valid_digit = True\n",
        "        else:\n",
        "            print(\"Not a Digit\")\n",
        "    print(\"Single Digit Entered\")\n",
        "\n",
        "get_digit()"
      ],
      "execution_count": null,
      "outputs": [
        {
          "output_type": "stream",
          "text": [
            "Enter a single digit :- 9989\n",
            "Not a Digit\n",
            "Enter a single digit :- 66\n",
            "Not a Digit\n",
            "Enter a single digit :- 567\n",
            "Not a Digit\n",
            "Enter a single digit :- 23\n",
            "Not a Digit\n",
            "Enter a single digit :- 12\n",
            "Not a Digit\n",
            "Enter a single digit :- 3\n",
            "Single Digit Entered\n"
          ],
          "name": "stdout"
        }
      ]
    },
    {
      "cell_type": "markdown",
      "metadata": {
        "id": "o80s4nzfi37X"
      },
      "source": [
        "---\n",
        "### Exercise 4 - positive number input \n",
        "\n",
        "Write a function called **positive_number()** which will:\n",
        "*  ask the user to enter a **number**, the message should indicate that it must be a positive number  \n",
        "*  if `number` is not positive **(ie. less than 1)** show an error message and ask user to re-enter the `number` \n",
        "*  when the `number` is positive, print the `number`\n",
        "\n",
        "Test input:  \n",
        "-1\n",
        "0\n",
        "1\n",
        "\n",
        "Expected output:  \n",
        "It must be a positive number, try again  \n",
        "It must be a positive number, try again  \n",
        "1  "
      ]
    },
    {
      "cell_type": "code",
      "metadata": {
        "id": "BmZjI8PzwdT-",
        "colab": {
          "base_uri": "https://localhost:8080/"
        },
        "outputId": "ce6206dc-b1b1-4bd4-84d1-eb611391205a"
      },
      "source": [
        "def positive_number():\n",
        "    valid_num = False\n",
        "    while valid_num != True:\n",
        "        number = int(input(\"Enter +ve Number : -\"))\n",
        "        if number < 1:\n",
        "            print(\"Invalid number It must be a positive number, please try again \")\n",
        "        else:\n",
        "            valid_num = True\n",
        "            print(\"Perfect - You number is \", number)\n",
        "positive_number()\n"
      ],
      "execution_count": null,
      "outputs": [
        {
          "output_type": "stream",
          "text": [
            "Enter +ve Number : --90\n",
            "Invalid number It must be a positive number, please try again \n",
            "Enter +ve Number : --1\n",
            "Invalid number It must be a positive number, please try again \n",
            "Enter +ve Number : --2\n",
            "Invalid number It must be a positive number, please try again \n",
            "Enter +ve Number : -99\n",
            "Perfect - You number is  99\n"
          ],
          "name": "stdout"
        }
      ]
    },
    {
      "cell_type": "markdown",
      "metadata": {
        "id": "xPJfd9lUyULa"
      },
      "source": [
        "---\n",
        "### Exercise 5 - getting a number within limits \n",
        "\n",
        "Write a function called **test_limits()** which will:\n",
        "\n",
        "*  ask the user to enter a number between **1 and 31**\n",
        "*  if the number entered is less than 1 or more than 31, display the error message \"Number out of limits\"  \n",
        "*  continue asking the user until a valid input is given \n",
        "*  when a valid number is given, display the message \"Your number was `number`\" and end the program \n",
        "\n",
        "Test input:  \n",
        "40  \n",
        "50  \n",
        "30  \n",
        "\n",
        "Expected output:  \n",
        "Number out of limits  \n",
        "Number out of limits  \n",
        "Your number was 30  \n"
      ]
    },
    {
      "cell_type": "code",
      "metadata": {
        "id": "MVxhTY6zzq8k",
        "colab": {
          "base_uri": "https://localhost:8080/"
        },
        "outputId": "75f76f0d-b6fe-41af-fea1-7303f3084fd0"
      },
      "source": [
        "def test_limits():\n",
        "    number = 0\n",
        "    while number < 1 or number > 31:\n",
        "        number = int(input(\"Enter number : \"))\n",
        "        if number >= 1 and number <= 31:\n",
        "           print(\" Your number was \",number)\n",
        "        else:\n",
        "           print(\"Number out of Limits, Please try again\")\n",
        "test_limits()\n"
      ],
      "execution_count": null,
      "outputs": [
        {
          "output_type": "stream",
          "text": [
            "Enter number : 555\n",
            "Number out of Limits, Please try again\n",
            "Enter number : -90\n",
            "Number out of Limits, Please try again\n",
            "Enter number : -2\n",
            "Number out of Limits, Please try again\n",
            "Enter number : 86\n",
            "Number out of Limits, Please try again\n",
            "Enter number : 32\n",
            "Number out of Limits, Please try again\n",
            "Enter number : 27\n",
            " Your number was  27\n"
          ],
          "name": "stdout"
        }
      ]
    },
    {
      "cell_type": "markdown",
      "metadata": {
        "id": "WcHiG9AlUPdr"
      },
      "source": [
        "---\n",
        "### Exercise 6 - getting a number outside range\n",
        "\n",
        "Write a function called **test_outlier()** which will:\n",
        "\n",
        "*  ask the user to enter a **number** that is NOT between 40 and 50  \n",
        "*  if the `number` entered is between 40 and 50 (including both 40 and 50, display the error message \"This is not an outlier\"\n",
        "*  continue asking the user until a valid `number` is given\n",
        "*  when a valid `number` is given, display the message \"You have entered an outlier\" and end the program  \n",
        "\n",
        "Test input:  \n",
        "34  \n",
        "\n",
        "Expected output:  \n",
        "You have entered an outlier  \n",
        "\n",
        "Test input:  \n",
        "44  \n",
        "50  \n",
        "40  \n",
        "34  \n",
        "\n",
        "Expected output:  \n",
        "This is not an outlier  \n",
        "This is not an outlier  \n",
        "This is not an outlier  \n",
        "You have entered an outlier  "
      ]
    },
    {
      "cell_type": "code",
      "metadata": {
        "id": "PqvtQXYnUQ8E",
        "colab": {
          "base_uri": "https://localhost:8080/"
        },
        "outputId": "2f9bac31-7a9b-410c-e64a-303574ed2a39"
      },
      "source": [
        "def test_outlier():\n",
        "    valid_Num = False\n",
        "#  while number < 40 or number > 50:\n",
        "    while valid_Num != True:\n",
        "        number = int(input(\"Enter a number out with 40 and 50 : \"))\n",
        "        if number >= 40 and number <= 50:\n",
        "           print(\"This is not an Outlier,  Try Again \")\n",
        "        else:\n",
        "           valid_Num = True\n",
        "           print(\"You have Entered an Outlier \")\n",
        "\n",
        "test_outlier()"
      ],
      "execution_count": null,
      "outputs": [
        {
          "output_type": "stream",
          "text": [
            "Enter a number out with 40 and 50 : 44\n",
            "This is not an Outlier,  Try Again \n",
            "Enter a number out with 40 and 50 : 49\n",
            "This is not an Outlier,  Try Again \n",
            "Enter a number out with 40 and 50 : 50\n",
            "This is not an Outlier,  Try Again \n",
            "Enter a number out with 40 and 50 : 40\n",
            "This is not an Outlier,  Try Again \n",
            "Enter a number out with 40 and 50 : 99\n",
            "You have Entered an Outlier \n"
          ],
          "name": "stdout"
        }
      ]
    },
    {
      "cell_type": "markdown",
      "metadata": {
        "id": "53kjOj7nzri1"
      },
      "source": [
        "---\n",
        "### Exercise 7 - multiplying a number to be greater than 20,000\n",
        "\n",
        "Write a function called **increase_to_twenty_thousand()** that will:\n",
        "\n",
        "*  ask the user to input a **number**\n",
        "*  multiply given `number` by itself repeatedly, printing its value each time it changes, until the  number has become greater (>) than 20,000\n",
        "\n",
        "Test input:  \n",
        "5\n",
        "\n",
        "Expected output:  \n",
        "5   \n",
        "25  \n",
        "125  \n",
        "625  \n",
        "3125  \n",
        "15625  \n",
        "78125  \n",
        " "
      ]
    },
    {
      "cell_type": "code",
      "metadata": {
        "id": "9vzat0W21tNA",
        "colab": {
          "base_uri": "https://localhost:8080/"
        },
        "outputId": "d9637fe2-95c1-423d-9da4-676c84a44183"
      },
      "source": [
        "def increase_to_twenty_thousand():\n",
        "    number = int(input(\"Enter +ve integer Number : \"))\n",
        "    num_Multiplier = number  # save the user input number to multiply with\n",
        "    while number < 20000:\n",
        "        print(number)\n",
        "        number = number * num_Multiplier\n",
        "increase_to_twenty_thousand()"
      ],
      "execution_count": null,
      "outputs": [
        {
          "output_type": "stream",
          "text": [
            "Enter +ve integer Number : 5\n",
            "5\n",
            "25\n",
            "125\n",
            "625\n",
            "3125\n",
            "15625\n"
          ],
          "name": "stdout"
        }
      ]
    },
    {
      "cell_type": "markdown",
      "metadata": {
        "id": "wepL2Ufj1uvT"
      },
      "source": [
        "  ---\n",
        "### Exercise 8 - even and odds \n",
        "\n",
        "Write a function called **get_even_number()** that:\n",
        "\n",
        "*  asks the user to input an even number (divisible by 2)\n",
        "*  if an odd number is given, display message \"That number is odd\"\n",
        "*  once valid input given (even number), display message \"Thanks, that number is even\"\n",
        "\n",
        "Test input:  \n",
        "3  \n",
        "1  \n",
        "2  \n",
        "\n",
        "Expected output:  \n",
        "That number is odd  \n",
        "That number is odd  \n",
        "Thanks, that number is even  \n",
        "\n"
      ]
    },
    {
      "cell_type": "code",
      "metadata": {
        "id": "KME9Qfcs45yJ",
        "colab": {
          "base_uri": "https://localhost:8080/"
        },
        "outputId": "ae383918-26a0-4613-c1e9-70695eb24bcc"
      },
      "source": [
        " def get_even_number():\n",
        "    remainder = 1 \n",
        "    while  remainder >= 1:\n",
        "#    while remainder != 0:\n",
        "        number = int(input(\"Enter Even Integer number : \" ))\n",
        "        remainder = number % 2\n",
        "        if remainder == 0:\n",
        "           print(\"Thanks, that number is even\")\n",
        "        else:\n",
        "           print(\"That number is odd, Try Again\")\n",
        "get_even_number()\n"
      ],
      "execution_count": null,
      "outputs": [
        {
          "output_type": "stream",
          "text": [
            "Enter Even Integer number : 5\n",
            "That number is odd, Try Again\n",
            "Enter Even Integer number : 3\n",
            "That number is odd, Try Again\n",
            "Enter Even Integer number : 9\n",
            "That number is odd, Try Again\n",
            "Enter Even Integer number : 8\n",
            "Thanks, that number is even\n"
          ],
          "name": "stdout"
        }
      ]
    },
    {
      "cell_type": "markdown",
      "metadata": {
        "id": "-p3LVygZwd6R"
      },
      "source": [
        "### Exercise 9 - menu choice \n",
        "\n",
        "Write a function called **show_special_numbers()** which will:\n",
        "\n",
        "*  display the following menu \n",
        "\n",
        "*What value would you like to see?*\n",
        "\n",
        "1. *Pi*\n",
        "2. *Plank’s constant*\n",
        "3. *E*\n",
        "4. *Square root of 2*\n",
        "5. *Quit the program*\n",
        "\n",
        "*  ask the user to input which value they would like to see by typing a number between 1 - 5 \n",
        "*  read and process the choice while the user selects anything other than 5 (Quit the program)\n",
        "\n",
        "To process the choice:  \n",
        "* if the number is 1 - print 3.14159265359\n",
        "* if the number is 2 - print 6.62607004 × 10-34 (in Python this would be written 6.62607004E-34\n",
        "* if the number is 3 - print 2.71828\n",
        "* if the number is 4 - print 1.414\n",
        "* if the number is 5 - print the message (\"Thank you for using this program\")\n",
        "* if the number is anything else - print \"Invalid choice\"\n",
        "\n",
        "The program will print the message associated with the menu choice and will then display the menu again and ask the user to select a choice.  \n",
        "\n",
        "When the user enters 5, the program should stop repeating.\n",
        "\n",
        "Test input:    \n",
        "1  \n",
        "4  \n",
        "6  \n",
        "5  \n",
        "\n",
        "Expected output:    \n",
        "3.14159265359  \n",
        "1.414  \n",
        "Invalid choice  \n",
        "Thank you for using this program  "
      ]
    },
    {
      "cell_type": "code",
      "metadata": {
        "id": "EZdR70D-yP_Y",
        "colab": {
          "base_uri": "https://localhost:8080/"
        },
        "outputId": "9f42c881-9d48-4da4-ceaa-fbdb5a597515"
      },
      "source": [
        "def show_special_numbers():\n",
        "    quit_option = False \n",
        "    while quit_option != True:\n",
        "        option = input('''\n",
        "        What Value would you like to see?\n",
        "        1. Pi\n",
        "        2. E\n",
        "        3. Planks 's constant\n",
        "        4. Square root of 2\n",
        "        5. Quit the program\n",
        "        ''') \n",
        "        if option == '1':\n",
        "           print(\"3.14159265359\")\n",
        "        elif option == '2':\n",
        "           print(\"6.62607004E-34\")\n",
        "        elif option == '3':\n",
        "           print(\"2.71828\")\n",
        "        elif option == '4':\n",
        "           print(\"1.414\")\n",
        "        elif option == '5':\n",
        "           quit_option = True\n",
        "           print(\"Thank you for using this program\")\n",
        "        else:\n",
        "           print(\"Invalid Choice=, Try again\")\n",
        "show_special_numbers()"
      ],
      "execution_count": null,
      "outputs": [
        {
          "output_type": "stream",
          "text": [
            "\n",
            "        What Value would you like to see?\n",
            "        1. Pi\n",
            "        2. E\n",
            "        3. Planks 's constant\n",
            "        4. Square root of 2\n",
            "        5. Quit the program\n",
            "        3\n",
            "2.71828\n",
            "\n",
            "        What Value would you like to see?\n",
            "        1. Pi\n",
            "        2. E\n",
            "        3. Planks 's constant\n",
            "        4. Square root of 2\n",
            "        5. Quit the program\n",
            "        4\n",
            "1.414\n",
            "\n",
            "        What Value would you like to see?\n",
            "        1. Pi\n",
            "        2. E\n",
            "        3. Planks 's constant\n",
            "        4. Square root of 2\n",
            "        5. Quit the program\n",
            "        5\n",
            "Thank you for using this program\n"
          ],
          "name": "stdout"
        }
      ]
    },
    {
      "cell_type": "markdown",
      "metadata": {
        "id": "Ig_WrlmPWG4v"
      },
      "source": [
        "---\n",
        "### Exercise 10 - Guess the number  \n",
        "\n",
        "Write a function called **guess_number(number)** which will:  \n",
        "\n",
        "Ask the user to guess the number within 6 attempts.  \n",
        "\n",
        "The function will be given a random number (called `number`) and should use a while loop that will continue while the user has not guessed correctly and has had less than 6 attempts (don't forget to set the number of attempts to 0 before the loop and increment it every time a guess is made).  \n",
        "\n",
        "In the loop:  \n",
        "\n",
        "*  ask the user to enter a **guess**  \n",
        "*  if the `guess` is greater than the `number` print \"Too high\", if less than the number print \"Too low\" or if correct print \"You guessed it\"  \n",
        "*  count the `attempt`  \n",
        "\n",
        "After the loop if the maximum attempts has been reached, print \"Too many attempts\"\n",
        "\n",
        "\n"
      ]
    },
    {
      "cell_type": "code",
      "metadata": {
        "id": "7qagArrHWHGV",
        "colab": {
          "base_uri": "https://localhost:8080/"
        },
        "outputId": "bf19f786-e6f0-4aa2-8700-fa598c2f90bb"
      },
      "source": [
        "from random import randint\n",
        "\n",
        "def guess_number(number):\n",
        "  # add your code below here, remembering to indent\n",
        "    attempts = 0\n",
        "    guess_num = 0\n",
        "    while  guess_num != number and attempts < 6:\n",
        "        guess_num = int(input(\"Enter a number in the range of 1 to 50 :- \"))\n",
        "        if guess_num > number:\n",
        "           print(\"Too High\")\n",
        "        elif guess_num < number:\n",
        "           print(\"Too Low\")\n",
        "        else:\n",
        "           print(\"You guessed it\")\n",
        "        attempts += 1\n",
        "\n",
        "    if attempts == 6:\n",
        "       print(\"Too many attempts\")  \n",
        "\n",
        "guess_number(randint(1,50))"
      ],
      "execution_count": null,
      "outputs": [
        {
          "output_type": "stream",
          "text": [
            "Enter a number in the range of 1 to 50 :- 1\n",
            "Too Low\n",
            "Enter a number in the range of 1 to 50 :- 2\n",
            "Too Low\n",
            "Enter a number in the range of 1 to 50 :- 3\n",
            "Too Low\n",
            "Enter a number in the range of 1 to 50 :- 49\n",
            "Too High\n",
            "Enter a number in the range of 1 to 50 :- 45\n",
            "Too High\n",
            "Enter a number in the range of 1 to 50 :- 22\n",
            "Too Low\n",
            "Too many attempts\n"
          ],
          "name": "stdout"
        }
      ]
    }
  ]
}